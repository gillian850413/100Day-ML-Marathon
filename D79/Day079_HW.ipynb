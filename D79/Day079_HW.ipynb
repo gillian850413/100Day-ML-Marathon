{
  "nbformat": 4,
  "nbformat_minor": 0,
  "metadata": {
    "kernelspec": {
      "display_name": "Python 3",
      "language": "python",
      "name": "python3"
    },
    "language_info": {
      "codemirror_mode": {
        "name": "ipython",
        "version": 3
      },
      "file_extension": ".py",
      "mimetype": "text/x-python",
      "name": "python",
      "nbconvert_exporter": "python",
      "pygments_lexer": "ipython3",
      "version": "3.6.5"
    },
    "colab": {
      "name": "Day079_HW.ipynb",
      "provenance": []
    }
  },
  "cells": [
    {
      "cell_type": "markdown",
      "metadata": {
        "id": "5AQqDUqz62h2",
        "colab_type": "text"
      },
      "source": [
        "## Work\n",
        "1. 請比較 SGD optimizer 不同的 momentum 及使用 nesterov 與否的表現"
      ]
    },
    {
      "cell_type": "code",
      "metadata": {
        "id": "5Jmsnhlr62h4",
        "colab_type": "code",
        "colab": {
          "base_uri": "https://localhost:8080/",
          "height": 80
        },
        "outputId": "5762356a-d8c0-464c-a5d2-edff31e203dd"
      },
      "source": [
        "import os\n",
        "import keras\n",
        "\n",
        "# 本作業可以不需使用 GPU, 將 GPU 設定為 \"無\" (若想使用可自行開啟)\n",
        "os.environ[\"CUDA_VISIBLE_DEVICES\"] = \"\""
      ],
      "execution_count": 1,
      "outputs": [
        {
          "output_type": "stream",
          "text": [
            "Using TensorFlow backend.\n"
          ],
          "name": "stderr"
        },
        {
          "output_type": "display_data",
          "data": {
            "text/html": [
              "<p style=\"color: red;\">\n",
              "The default version of TensorFlow in Colab will soon switch to TensorFlow 2.x.<br>\n",
              "We recommend you <a href=\"https://www.tensorflow.org/guide/migrate\" target=\"_blank\">upgrade</a> now \n",
              "or ensure your notebook will continue to use TensorFlow 1.x via the <code>%tensorflow_version 1.x</code> magic:\n",
              "<a href=\"https://colab.research.google.com/notebooks/tensorflow_version.ipynb\" target=\"_blank\">more info</a>.</p>\n"
            ],
            "text/plain": [
              "<IPython.core.display.HTML object>"
            ]
          },
          "metadata": {
            "tags": []
          }
        }
      ]
    },
    {
      "cell_type": "code",
      "metadata": {
        "id": "UAaYu4Ht62h6",
        "colab_type": "code",
        "colab": {
          "base_uri": "https://localhost:8080/",
          "height": 51
        },
        "outputId": "65899c6f-37aa-4d22-f301-1b6b0dc478f8"
      },
      "source": [
        "train, test = keras.datasets.cifar10.load_data()"
      ],
      "execution_count": 2,
      "outputs": [
        {
          "output_type": "stream",
          "text": [
            "Downloading data from https://www.cs.toronto.edu/~kriz/cifar-10-python.tar.gz\n",
            "170500096/170498071 [==============================] - 11s 0us/step\n"
          ],
          "name": "stdout"
        }
      ]
    },
    {
      "cell_type": "code",
      "metadata": {
        "id": "itROG-m662h9",
        "colab_type": "code",
        "colab": {}
      },
      "source": [
        "## 資料前處理\n",
        "def preproc_x(x, flatten=True):\n",
        "    x = x / 255.\n",
        "    if flatten:\n",
        "        x = x.reshape((len(x), -1))\n",
        "    return x\n",
        "\n",
        "def preproc_y(y, num_classes=10):\n",
        "    if y.shape[-1] == 1:\n",
        "        y = keras.utils.to_categorical(y, num_classes)\n",
        "    return y    "
      ],
      "execution_count": 0,
      "outputs": []
    },
    {
      "cell_type": "code",
      "metadata": {
        "id": "NfHA6ORu62h_",
        "colab_type": "code",
        "colab": {}
      },
      "source": [
        "x_train, y_train = train\n",
        "x_test, y_test = test\n",
        "\n",
        "# 資料前處理 - X 標準化\n",
        "x_train = preproc_x(x_train)\n",
        "x_test = preproc_x(x_test)\n",
        "\n",
        "# 資料前處理 -Y 轉成 onehot\n",
        "y_train = preproc_y(y_train)\n",
        "y_test = preproc_y(y_test)"
      ],
      "execution_count": 0,
      "outputs": []
    },
    {
      "cell_type": "code",
      "metadata": {
        "id": "lpvcEtP962iB",
        "colab_type": "code",
        "colab": {}
      },
      "source": [
        "def build_mlp(input_shape, output_units=10, num_neurons=[512, 256, 128]):\n",
        "    input_layer = keras.layers.Input(input_shape)\n",
        "    \n",
        "    for i, n_units in enumerate(num_neurons):\n",
        "        if i == 0:\n",
        "            x = keras.layers.Dense(units=n_units, activation=\"relu\", name=\"hidden_layer\"+str(i+1))(input_layer)\n",
        "        else:\n",
        "            x = keras.layers.Dense(units=n_units, activation=\"relu\", name=\"hidden_layer\"+str(i+1))(x)\n",
        "    \n",
        "    out = keras.layers.Dense(units=output_units, activation=\"softmax\", name=\"output\")(x)\n",
        "    \n",
        "    model = keras.models.Model(inputs=[input_layer], outputs=[out])\n",
        "    return model"
      ],
      "execution_count": 0,
      "outputs": []
    },
    {
      "cell_type": "code",
      "metadata": {
        "id": "ANwFGwTa62iE",
        "colab_type": "code",
        "colab": {}
      },
      "source": [
        "## 超參數設定\n",
        "LEARNING_RATE = [1e-1, 1e-2, 1e-3, 1e-4, 1e-5]\n",
        "EPOCHS = 50\n",
        "BATCH_SIZE = 256\n",
        "MOMENTUM = 0.5"
      ],
      "execution_count": 0,
      "outputs": []
    },
    {
      "cell_type": "code",
      "metadata": {
        "scrolled": true,
        "id": "8jnDYAbF62iG",
        "colab_type": "code",
        "colab": {
          "base_uri": "https://localhost:8080/",
          "height": 1000
        },
        "outputId": "d9a23d96-28ec-493e-b498-38a4faa3bb43"
      },
      "source": [
        "results = {}\n",
        "\"\"\"\n",
        "使用迴圈，建立不同 Learning rate 的模型並訓練\n",
        "\"\"\"\n",
        "for lr in LEARNING_RATE:\n",
        "    keras.backend.clear_session() # 把舊的 Graph 清掉\n",
        "    print(\"Experiment with LR = %.6f\" % (lr))\n",
        "    model = build_mlp(input_shape=x_train.shape[1:])\n",
        "    model.summary()\n",
        "    optimizer = keras.optimizers.SGD(lr=lr, nesterov=True, momentum=MOMENTUM)\n",
        "    model.compile(loss=\"categorical_crossentropy\", metrics=[\"accuracy\"], optimizer=optimizer)\n",
        "\n",
        "    model.fit(x_train, y_train, \n",
        "              epochs=EPOCHS, \n",
        "              batch_size=BATCH_SIZE, \n",
        "              validation_data=(x_test, y_test), \n",
        "              shuffle=True)\n",
        "    \n",
        "    # Collect results\n",
        "    train_loss = model.history.history[\"loss\"]\n",
        "    valid_loss = model.history.history[\"val_loss\"]\n",
        "    train_acc = model.history.history[\"acc\"]\n",
        "    valid_acc = model.history.history[\"val_acc\"]\n",
        "    \n",
        "    exp_name_tag = \"exp-lr-%s\" % str(lr)\n",
        "    results[exp_name_tag] = {'train-loss': train_loss,\n",
        "                             'valid-loss': valid_loss,\n",
        "                             'train-acc': train_acc,\n",
        "                             'valid-acc': valid_acc}\n"
      ],
      "execution_count": 0,
      "outputs": [
        {
          "output_type": "stream",
          "text": [
            "WARNING:tensorflow:From /usr/local/lib/python3.6/dist-packages/keras/backend/tensorflow_backend.py:107: The name tf.reset_default_graph is deprecated. Please use tf.compat.v1.reset_default_graph instead.\n",
            "\n",
            "WARNING:tensorflow:From /usr/local/lib/python3.6/dist-packages/keras/backend/tensorflow_backend.py:111: The name tf.placeholder_with_default is deprecated. Please use tf.compat.v1.placeholder_with_default instead.\n",
            "\n",
            "WARNING:tensorflow:From /usr/local/lib/python3.6/dist-packages/keras/backend/tensorflow_backend.py:66: The name tf.get_default_graph is deprecated. Please use tf.compat.v1.get_default_graph instead.\n",
            "\n",
            "Experiment with LR = 0.100000\n",
            "WARNING:tensorflow:From /usr/local/lib/python3.6/dist-packages/keras/backend/tensorflow_backend.py:541: The name tf.placeholder is deprecated. Please use tf.compat.v1.placeholder instead.\n",
            "\n",
            "WARNING:tensorflow:From /usr/local/lib/python3.6/dist-packages/keras/backend/tensorflow_backend.py:4432: The name tf.random_uniform is deprecated. Please use tf.random.uniform instead.\n",
            "\n",
            "Model: \"model_1\"\n",
            "_________________________________________________________________\n",
            "Layer (type)                 Output Shape              Param #   \n",
            "=================================================================\n",
            "input_1 (InputLayer)         (None, 3072)              0         \n",
            "_________________________________________________________________\n",
            "hidden_layer1 (Dense)        (None, 512)               1573376   \n",
            "_________________________________________________________________\n",
            "hidden_layer2 (Dense)        (None, 256)               131328    \n",
            "_________________________________________________________________\n",
            "hidden_layer3 (Dense)        (None, 128)               32896     \n",
            "_________________________________________________________________\n",
            "output (Dense)               (None, 10)                1290      \n",
            "=================================================================\n",
            "Total params: 1,738,890\n",
            "Trainable params: 1,738,890\n",
            "Non-trainable params: 0\n",
            "_________________________________________________________________\n",
            "WARNING:tensorflow:From /usr/local/lib/python3.6/dist-packages/keras/optimizers.py:793: The name tf.train.Optimizer is deprecated. Please use tf.compat.v1.train.Optimizer instead.\n",
            "\n",
            "WARNING:tensorflow:From /usr/local/lib/python3.6/dist-packages/keras/backend/tensorflow_backend.py:3576: The name tf.log is deprecated. Please use tf.math.log instead.\n",
            "\n",
            "WARNING:tensorflow:From /usr/local/lib/python3.6/dist-packages/tensorflow_core/python/ops/math_grad.py:1424: where (from tensorflow.python.ops.array_ops) is deprecated and will be removed in a future version.\n",
            "Instructions for updating:\n",
            "Use tf.where in 2.0, which has the same broadcast rule as np.where\n",
            "WARNING:tensorflow:From /usr/local/lib/python3.6/dist-packages/keras/backend/tensorflow_backend.py:1033: The name tf.assign_add is deprecated. Please use tf.compat.v1.assign_add instead.\n",
            "\n",
            "WARNING:tensorflow:From /usr/local/lib/python3.6/dist-packages/keras/backend/tensorflow_backend.py:1020: The name tf.assign is deprecated. Please use tf.compat.v1.assign instead.\n",
            "\n",
            "WARNING:tensorflow:From /usr/local/lib/python3.6/dist-packages/keras/backend/tensorflow_backend.py:3005: The name tf.Session is deprecated. Please use tf.compat.v1.Session instead.\n",
            "\n",
            "Train on 50000 samples, validate on 10000 samples\n",
            "Epoch 1/50\n",
            "WARNING:tensorflow:From /usr/local/lib/python3.6/dist-packages/keras/backend/tensorflow_backend.py:190: The name tf.get_default_session is deprecated. Please use tf.compat.v1.get_default_session instead.\n",
            "\n",
            "WARNING:tensorflow:From /usr/local/lib/python3.6/dist-packages/keras/backend/tensorflow_backend.py:197: The name tf.ConfigProto is deprecated. Please use tf.compat.v1.ConfigProto instead.\n",
            "\n",
            "WARNING:tensorflow:From /usr/local/lib/python3.6/dist-packages/keras/backend/tensorflow_backend.py:207: The name tf.global_variables is deprecated. Please use tf.compat.v1.global_variables instead.\n",
            "\n",
            "WARNING:tensorflow:From /usr/local/lib/python3.6/dist-packages/keras/backend/tensorflow_backend.py:216: The name tf.is_variable_initialized is deprecated. Please use tf.compat.v1.is_variable_initialized instead.\n",
            "\n",
            "WARNING:tensorflow:From /usr/local/lib/python3.6/dist-packages/keras/backend/tensorflow_backend.py:223: The name tf.variables_initializer is deprecated. Please use tf.compat.v1.variables_initializer instead.\n",
            "\n",
            "50000/50000 [==============================] - 11s 220us/step - loss: 2.1188 - acc: 0.2269 - val_loss: 2.0233 - val_acc: 0.2567\n",
            "Epoch 2/50\n",
            "50000/50000 [==============================] - 10s 203us/step - loss: 1.8707 - acc: 0.3230 - val_loss: 1.8615 - val_acc: 0.3142\n",
            "Epoch 3/50\n",
            "50000/50000 [==============================] - 10s 201us/step - loss: 1.7802 - acc: 0.3615 - val_loss: 1.7409 - val_acc: 0.3637\n",
            "Epoch 4/50\n",
            "50000/50000 [==============================] - 10s 201us/step - loss: 1.7087 - acc: 0.3890 - val_loss: 1.9607 - val_acc: 0.3150\n",
            "Epoch 5/50\n",
            "50000/50000 [==============================] - 10s 201us/step - loss: 1.6472 - acc: 0.4108 - val_loss: 1.8411 - val_acc: 0.3624\n",
            "Epoch 6/50\n",
            "50000/50000 [==============================] - 10s 201us/step - loss: 1.6075 - acc: 0.4253 - val_loss: 1.6187 - val_acc: 0.4137\n",
            "Epoch 7/50\n",
            "50000/50000 [==============================] - 10s 201us/step - loss: 1.5641 - acc: 0.4408 - val_loss: 1.6407 - val_acc: 0.4214\n",
            "Epoch 8/50\n",
            "50000/50000 [==============================] - 10s 204us/step - loss: 1.5267 - acc: 0.4587 - val_loss: 1.6053 - val_acc: 0.4300\n",
            "Epoch 9/50\n",
            "50000/50000 [==============================] - 10s 200us/step - loss: 1.4922 - acc: 0.4663 - val_loss: 1.5171 - val_acc: 0.4674\n",
            "Epoch 10/50\n",
            "50000/50000 [==============================] - 10s 201us/step - loss: 1.4584 - acc: 0.4800 - val_loss: 1.6699 - val_acc: 0.4038\n",
            "Epoch 11/50\n",
            "50000/50000 [==============================] - 10s 201us/step - loss: 1.4335 - acc: 0.4887 - val_loss: 1.5471 - val_acc: 0.4496\n",
            "Epoch 12/50\n",
            "50000/50000 [==============================] - 10s 199us/step - loss: 1.4196 - acc: 0.4933 - val_loss: 1.4829 - val_acc: 0.4632\n",
            "Epoch 13/50\n",
            "50000/50000 [==============================] - 10s 200us/step - loss: 1.3864 - acc: 0.5062 - val_loss: 1.5487 - val_acc: 0.4457\n",
            "Epoch 14/50\n",
            "50000/50000 [==============================] - 10s 202us/step - loss: 1.3554 - acc: 0.5142 - val_loss: 1.4257 - val_acc: 0.4878\n",
            "Epoch 15/50\n",
            "50000/50000 [==============================] - 10s 201us/step - loss: 1.3364 - acc: 0.5249 - val_loss: 1.5222 - val_acc: 0.4629\n",
            "Epoch 16/50\n",
            "50000/50000 [==============================] - 10s 200us/step - loss: 1.3179 - acc: 0.5300 - val_loss: 1.4930 - val_acc: 0.4615\n",
            "Epoch 17/50\n",
            "50000/50000 [==============================] - 10s 201us/step - loss: 1.3008 - acc: 0.5354 - val_loss: 1.5263 - val_acc: 0.4651\n",
            "Epoch 18/50\n",
            "50000/50000 [==============================] - 10s 201us/step - loss: 1.2681 - acc: 0.5478 - val_loss: 1.4479 - val_acc: 0.4841\n",
            "Epoch 19/50\n",
            "50000/50000 [==============================] - 10s 201us/step - loss: 1.2568 - acc: 0.5505 - val_loss: 1.6284 - val_acc: 0.4368\n",
            "Epoch 20/50\n",
            "50000/50000 [==============================] - 10s 202us/step - loss: 1.2337 - acc: 0.5587 - val_loss: 1.9069 - val_acc: 0.3855\n",
            "Epoch 21/50\n",
            "50000/50000 [==============================] - 10s 203us/step - loss: 1.2257 - acc: 0.5640 - val_loss: 2.0345 - val_acc: 0.3652\n",
            "Epoch 22/50\n",
            "50000/50000 [==============================] - 10s 202us/step - loss: 1.2182 - acc: 0.5649 - val_loss: 1.4648 - val_acc: 0.4834\n",
            "Epoch 23/50\n",
            "50000/50000 [==============================] - 10s 200us/step - loss: 1.1762 - acc: 0.5784 - val_loss: 1.6991 - val_acc: 0.4399\n",
            "Epoch 24/50\n",
            "50000/50000 [==============================] - 10s 202us/step - loss: 1.1639 - acc: 0.5834 - val_loss: 1.4832 - val_acc: 0.4822\n",
            "Epoch 25/50\n",
            "50000/50000 [==============================] - 10s 203us/step - loss: 1.1408 - acc: 0.5927 - val_loss: 1.6174 - val_acc: 0.4568\n",
            "Epoch 26/50\n",
            "50000/50000 [==============================] - 10s 201us/step - loss: 1.1208 - acc: 0.5991 - val_loss: 1.4230 - val_acc: 0.5059\n",
            "Epoch 27/50\n",
            "50000/50000 [==============================] - 10s 200us/step - loss: 1.0935 - acc: 0.6077 - val_loss: 1.6133 - val_acc: 0.4705\n",
            "Epoch 28/50\n",
            "50000/50000 [==============================] - 10s 201us/step - loss: 1.0899 - acc: 0.6093 - val_loss: 1.4508 - val_acc: 0.5082\n",
            "Epoch 29/50\n",
            "50000/50000 [==============================] - 10s 200us/step - loss: 1.0584 - acc: 0.6207 - val_loss: 1.5601 - val_acc: 0.4729\n",
            "Epoch 30/50\n",
            "50000/50000 [==============================] - 10s 201us/step - loss: 1.0411 - acc: 0.6251 - val_loss: 1.5110 - val_acc: 0.4956\n",
            "Epoch 31/50\n",
            "50000/50000 [==============================] - 10s 201us/step - loss: 1.0215 - acc: 0.6345 - val_loss: 1.5051 - val_acc: 0.4973\n",
            "Epoch 32/50\n",
            "50000/50000 [==============================] - 10s 201us/step - loss: 1.0220 - acc: 0.6331 - val_loss: 1.5234 - val_acc: 0.4870\n",
            "Epoch 33/50\n",
            "50000/50000 [==============================] - 10s 202us/step - loss: 0.9943 - acc: 0.6429 - val_loss: 1.5097 - val_acc: 0.4944\n",
            "Epoch 34/50\n",
            "50000/50000 [==============================] - 10s 201us/step - loss: 0.9783 - acc: 0.6500 - val_loss: 1.8585 - val_acc: 0.4520\n",
            "Epoch 35/50\n",
            "50000/50000 [==============================] - 10s 203us/step - loss: 0.9592 - acc: 0.6552 - val_loss: 1.7252 - val_acc: 0.4693\n",
            "Epoch 36/50\n",
            "50000/50000 [==============================] - 10s 202us/step - loss: 0.9479 - acc: 0.6616 - val_loss: 1.7447 - val_acc: 0.4774\n",
            "Epoch 37/50\n",
            "50000/50000 [==============================] - 10s 202us/step - loss: 0.9216 - acc: 0.6685 - val_loss: 1.8423 - val_acc: 0.4615\n",
            "Epoch 38/50\n",
            "50000/50000 [==============================] - 10s 203us/step - loss: 0.9171 - acc: 0.6728 - val_loss: 1.7860 - val_acc: 0.4714\n",
            "Epoch 39/50\n",
            "50000/50000 [==============================] - 10s 207us/step - loss: 0.8940 - acc: 0.6782 - val_loss: 1.7310 - val_acc: 0.4663\n",
            "Epoch 40/50\n",
            "50000/50000 [==============================] - 10s 201us/step - loss: 0.8712 - acc: 0.6875 - val_loss: 1.7714 - val_acc: 0.4763\n",
            "Epoch 41/50\n",
            "50000/50000 [==============================] - 10s 201us/step - loss: 0.8656 - acc: 0.6872 - val_loss: 1.5695 - val_acc: 0.5128\n",
            "Epoch 42/50\n",
            "50000/50000 [==============================] - 10s 200us/step - loss: 0.8364 - acc: 0.6973 - val_loss: 1.9073 - val_acc: 0.4717\n",
            "Epoch 43/50\n",
            "50000/50000 [==============================] - 10s 200us/step - loss: 0.8209 - acc: 0.7058 - val_loss: 1.9981 - val_acc: 0.4750\n",
            "Epoch 44/50\n",
            "50000/50000 [==============================] - 10s 202us/step - loss: 0.8069 - acc: 0.7089 - val_loss: 1.9076 - val_acc: 0.4752\n",
            "Epoch 45/50\n",
            "50000/50000 [==============================] - 10s 203us/step - loss: 0.8003 - acc: 0.7122 - val_loss: 1.8383 - val_acc: 0.4821\n",
            "Epoch 46/50\n",
            "50000/50000 [==============================] - 10s 201us/step - loss: 0.7760 - acc: 0.7217 - val_loss: 1.8497 - val_acc: 0.4749\n",
            "Epoch 47/50\n",
            "50000/50000 [==============================] - 10s 202us/step - loss: 0.7534 - acc: 0.7297 - val_loss: 2.1295 - val_acc: 0.4501\n",
            "Epoch 48/50\n",
            "50000/50000 [==============================] - 10s 202us/step - loss: 0.7577 - acc: 0.7256 - val_loss: 1.8529 - val_acc: 0.4900\n",
            "Epoch 49/50\n",
            "50000/50000 [==============================] - 10s 201us/step - loss: 0.7349 - acc: 0.7330 - val_loss: 1.8993 - val_acc: 0.4926\n",
            "Epoch 50/50\n",
            "50000/50000 [==============================] - 10s 201us/step - loss: 0.7184 - acc: 0.7426 - val_loss: 1.7220 - val_acc: 0.4987\n",
            "Experiment with LR = 0.010000\n",
            "Model: \"model_1\"\n",
            "_________________________________________________________________\n",
            "Layer (type)                 Output Shape              Param #   \n",
            "=================================================================\n",
            "input_1 (InputLayer)         (None, 3072)              0         \n",
            "_________________________________________________________________\n",
            "hidden_layer1 (Dense)        (None, 512)               1573376   \n",
            "_________________________________________________________________\n",
            "hidden_layer2 (Dense)        (None, 256)               131328    \n",
            "_________________________________________________________________\n",
            "hidden_layer3 (Dense)        (None, 128)               32896     \n",
            "_________________________________________________________________\n",
            "output (Dense)               (None, 10)                1290      \n",
            "=================================================================\n",
            "Total params: 1,738,890\n",
            "Trainable params: 1,738,890\n",
            "Non-trainable params: 0\n",
            "_________________________________________________________________\n",
            "Train on 50000 samples, validate on 10000 samples\n",
            "Epoch 1/50\n",
            "50000/50000 [==============================] - 10s 202us/step - loss: 1.9983 - acc: 0.2836 - val_loss: 1.8645 - val_acc: 0.3429\n",
            "Epoch 2/50\n",
            "50000/50000 [==============================] - 10s 200us/step - loss: 1.8191 - acc: 0.3559 - val_loss: 1.7625 - val_acc: 0.3729\n",
            "Epoch 3/50\n",
            "50000/50000 [==============================] - 10s 203us/step - loss: 1.7472 - acc: 0.3838 - val_loss: 1.7638 - val_acc: 0.3566\n",
            "Epoch 4/50\n",
            "50000/50000 [==============================] - 10s 203us/step - loss: 1.6914 - acc: 0.4031 - val_loss: 1.8004 - val_acc: 0.3545\n",
            "Epoch 5/50\n",
            "50000/50000 [==============================] - 10s 200us/step - loss: 1.6565 - acc: 0.4154 - val_loss: 1.6508 - val_acc: 0.4032\n",
            "Epoch 6/50\n",
            "50000/50000 [==============================] - 10s 202us/step - loss: 1.6167 - acc: 0.4276 - val_loss: 1.6628 - val_acc: 0.4178\n",
            "Epoch 7/50\n",
            "50000/50000 [==============================] - 10s 202us/step - loss: 1.5831 - acc: 0.4412 - val_loss: 1.5752 - val_acc: 0.4410\n",
            "Epoch 8/50\n",
            "50000/50000 [==============================] - 10s 202us/step - loss: 1.5611 - acc: 0.4507 - val_loss: 1.5885 - val_acc: 0.4408\n",
            "Epoch 9/50\n",
            "50000/50000 [==============================] - 10s 203us/step - loss: 1.5275 - acc: 0.4640 - val_loss: 1.6457 - val_acc: 0.4150\n",
            "Epoch 10/50\n",
            "50000/50000 [==============================] - 10s 202us/step - loss: 1.5083 - acc: 0.4678 - val_loss: 1.5482 - val_acc: 0.4548\n",
            "Epoch 11/50\n",
            "50000/50000 [==============================] - 10s 201us/step - loss: 1.4870 - acc: 0.4738 - val_loss: 1.5853 - val_acc: 0.4451\n",
            "Epoch 12/50\n",
            "50000/50000 [==============================] - 10s 201us/step - loss: 1.4668 - acc: 0.4820 - val_loss: 1.5102 - val_acc: 0.4586\n",
            "Epoch 13/50\n",
            "50000/50000 [==============================] - 10s 201us/step - loss: 1.4455 - acc: 0.4896 - val_loss: 1.4823 - val_acc: 0.4717\n",
            "Epoch 14/50\n",
            "50000/50000 [==============================] - 10s 201us/step - loss: 1.4299 - acc: 0.4945 - val_loss: 1.5827 - val_acc: 0.4357\n",
            "Epoch 15/50\n",
            "50000/50000 [==============================] - 10s 201us/step - loss: 1.4170 - acc: 0.4966 - val_loss: 1.7872 - val_acc: 0.3889\n",
            "Epoch 16/50\n",
            "50000/50000 [==============================] - 10s 200us/step - loss: 1.4062 - acc: 0.5041 - val_loss: 1.4222 - val_acc: 0.4968\n",
            "Epoch 17/50\n",
            "50000/50000 [==============================] - 10s 200us/step - loss: 1.3873 - acc: 0.5107 - val_loss: 1.4546 - val_acc: 0.4820\n",
            "Epoch 18/50\n",
            "50000/50000 [==============================] - 10s 202us/step - loss: 1.3730 - acc: 0.5173 - val_loss: 1.4694 - val_acc: 0.4750\n",
            "Epoch 19/50\n",
            "50000/50000 [==============================] - 10s 201us/step - loss: 1.3583 - acc: 0.5225 - val_loss: 1.5226 - val_acc: 0.4541\n",
            "Epoch 20/50\n",
            "50000/50000 [==============================] - 10s 203us/step - loss: 1.3424 - acc: 0.5292 - val_loss: 1.5371 - val_acc: 0.4459\n",
            "Epoch 21/50\n",
            "50000/50000 [==============================] - 10s 203us/step - loss: 1.3292 - acc: 0.5323 - val_loss: 1.4150 - val_acc: 0.5040\n",
            "Epoch 22/50\n",
            "50000/50000 [==============================] - 10s 201us/step - loss: 1.3179 - acc: 0.5346 - val_loss: 1.7462 - val_acc: 0.3980\n",
            "Epoch 23/50\n",
            "50000/50000 [==============================] - 10s 201us/step - loss: 1.3102 - acc: 0.5387 - val_loss: 1.3984 - val_acc: 0.5016\n",
            "Epoch 24/50\n",
            "50000/50000 [==============================] - 10s 201us/step - loss: 1.2910 - acc: 0.5440 - val_loss: 1.4612 - val_acc: 0.4798\n",
            "Epoch 25/50\n",
            "50000/50000 [==============================] - 10s 203us/step - loss: 1.2812 - acc: 0.5474 - val_loss: 1.4706 - val_acc: 0.4793\n",
            "Epoch 26/50\n",
            "50000/50000 [==============================] - 10s 201us/step - loss: 1.2720 - acc: 0.5520 - val_loss: 1.3859 - val_acc: 0.5047\n",
            "Epoch 27/50\n",
            "50000/50000 [==============================] - 10s 201us/step - loss: 1.2623 - acc: 0.5563 - val_loss: 1.5117 - val_acc: 0.4634\n",
            "Epoch 28/50\n",
            "28672/50000 [================>.............] - ETA: 4s - loss: 1.2485 - acc: 0.5627"
          ],
          "name": "stdout"
        }
      ]
    },
    {
      "cell_type": "code",
      "metadata": {
        "id": "GhVc4xWj62iI",
        "colab_type": "code",
        "colab": {}
      },
      "source": [
        "import matplotlib.pyplot as plt\n",
        "%matplotlib inline\n",
        "color_bar = [\"r\", \"g\", \"b\", \"y\", \"m\", \"k\"]\n",
        "\n",
        "plt.figure(figsize=(8,6))\n",
        "for i, cond in enumerate(results.keys()):\n",
        "    plt.plot(range(len(results[cond]['train-loss'])),results[cond]['train-loss'], '-', label=cond, color=color_bar[i])\n",
        "    plt.plot(range(len(results[cond]['valid-loss'])),results[cond]['valid-loss'], '--', label=cond, color=color_bar[i])\n",
        "plt.title(\"Loss\")\n",
        "plt.legend()\n",
        "plt.show()\n",
        "\n",
        "plt.figure(figsize=(8,6))\n",
        "for i, cond in enumerate(results.keys()):\n",
        "    plt.plot(range(len(results[cond]['train-acc'])),results[cond]['train-acc'], '-', label=cond, color=color_bar[i])\n",
        "    plt.plot(range(len(results[cond]['valid-acc'])),results[cond]['valid-acc'], '--', label=cond, color=color_bar[i])\n",
        "plt.title(\"Accuracy\")\n",
        "plt.legend()\n",
        "plt.show()"
      ],
      "execution_count": 0,
      "outputs": []
    }
  ]
}