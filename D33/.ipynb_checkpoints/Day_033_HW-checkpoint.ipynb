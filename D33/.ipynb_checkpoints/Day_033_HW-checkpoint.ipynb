{
 "cells": [
  {
   "cell_type": "markdown",
   "metadata": {
    "toc": true
   },
   "source": [
    "<h1>Table of Contents<span class=\"tocSkip\"></span></h1>\n",
    "<div class=\"toc\"><ul class=\"toc-item\"><li><span><a href=\"#練習時間\" data-toc-modified-id=\"練習時間-1\"><span class=\"toc-item-num\">1&nbsp;&nbsp;</span>練習時間</a></span><ul class=\"toc-item\"><li><span><a href=\"#1.-模型的泛化能力-(generalization)-是指什麼？\" data-toc-modified-id=\"1.-模型的泛化能力-(generalization)-是指什麼？-1.1\"><span class=\"toc-item-num\">1.1&nbsp;&nbsp;</span>1. 模型的泛化能力 (generalization) 是指什麼？</a></span></li><li><span><a href=\"#2.-分類問題與回歸問題分別可用的目標函數有哪些？\" data-toc-modified-id=\"2.-分類問題與回歸問題分別可用的目標函數有哪些？-1.2\"><span class=\"toc-item-num\">1.2&nbsp;&nbsp;</span>2. 分類問題與回歸問題分別可用的目標函數有哪些？</a></span></li></ul></li></ul></div>"
   ]
  },
  {
   "cell_type": "markdown",
   "metadata": {},
   "source": [
    "## 練習時間"
   ]
  },
  {
   "cell_type": "markdown",
   "metadata": {},
   "source": [
    "請觀看李宏毅教授以神奇寶貝進化 CP 值預測的範例，解說何謂機器學習與過擬合。並回答以下問題"
   ]
  },
  {
   "cell_type": "markdown",
   "metadata": {},
   "source": [
    "[youtube](https://www.youtube.com/watch?v=fegAeph9UaA)"
   ]
  },
  {
   "cell_type": "markdown",
   "metadata": {},
   "source": [
    "### 1. 模型的泛化能力 (generalization) 是指什麼？ \n",
    "讓模型可以適用於不同未知的dataset且不會造成部分過度擬合或是部分underfitting\n",
    "\n",
    "### 2. 分類問題與回歸問題分別可用的目標函數有哪些？\n",
    "- 分類問題: Accuracy, ROC\n",
    "- 回歸問題: Mean square error"
   ]
  },
  {
   "cell_type": "code",
   "execution_count": null,
   "metadata": {},
   "outputs": [],
   "source": [
    "|"
   ]
  }
 ],
 "metadata": {
  "kernelspec": {
   "display_name": "Python 3",
   "language": "python",
   "name": "python3"
  },
  "language_info": {
   "codemirror_mode": {
    "name": "ipython",
    "version": 3
   },
   "file_extension": ".py",
   "mimetype": "text/x-python",
   "name": "python",
   "nbconvert_exporter": "python",
   "pygments_lexer": "ipython3",
   "version": "3.7.2"
  },
  "toc": {
   "base_numbering": 1,
   "nav_menu": {},
   "number_sections": true,
   "sideBar": true,
   "skip_h1_title": false,
   "title_cell": "Table of Contents",
   "title_sidebar": "Contents",
   "toc_cell": true,
   "toc_position": {},
   "toc_section_display": true,
   "toc_window_display": false
  }
 },
 "nbformat": 4,
 "nbformat_minor": 2
}
