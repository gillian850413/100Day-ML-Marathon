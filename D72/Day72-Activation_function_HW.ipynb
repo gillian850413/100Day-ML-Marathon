{
  "nbformat": 4,
  "nbformat_minor": 0,
  "metadata": {
    "kernelspec": {
      "display_name": "Python 3",
      "language": "python",
      "name": "python3"
    },
    "language_info": {
      "codemirror_mode": {
        "name": "ipython",
        "version": 3
      },
      "file_extension": ".py",
      "mimetype": "text/x-python",
      "name": "python",
      "nbconvert_exporter": "python",
      "pygments_lexer": "ipython3",
      "version": "3.7.0"
    },
    "colab": {
      "name": "Day72-Activation_function_HW.ipynb",
      "provenance": []
    }
  },
  "cells": [
    {
      "cell_type": "markdown",
      "metadata": {
        "id": "StLgm2lEccpE",
        "colab_type": "text"
      },
      "source": [
        "# 作業目標:\n",
        "    寫出 ReLU & dReLU 一階導數\n",
        "    並列印\n"
      ]
    },
    {
      "cell_type": "markdown",
      "metadata": {
        "id": "2HxMDpExccpG",
        "colab_type": "text"
      },
      "source": [
        "# 作業重點\n",
        "\n",
        "# Rectified Linear Unit- Relu \n",
        "\n",
        "f(x)=max(0,x)\n"
      ]
    },
    {
      "cell_type": "code",
      "metadata": {
        "id": "w04fxejyccpH",
        "colab_type": "code",
        "colab": {}
      },
      "source": [
        "import numpy as np\n",
        "from numpy import *\n",
        "import matplotlib.pylab as plt\n",
        "%matplotlib inline\n",
        "\n",
        "def relu(x):\n",
        "  return np.maximum(0, x)\n",
        "\n",
        "def drelu(x):\n",
        "  return np.maximum(0, 1)"
      ],
      "execution_count": 0,
      "outputs": []
    },
    {
      "cell_type": "code",
      "metadata": {
        "id": "ptEM073DccpM",
        "colab_type": "code",
        "colab": {
          "base_uri": "https://localhost:8080/",
          "height": 281
        },
        "outputId": "245bd1f8-3d76-4ca6-c8b5-caaa4eed7d2f"
      },
      "source": [
        "# linespace generate an array from start and stop value\n",
        "# with requested number of elements. Example 10 elements or 100 elements.\n",
        "x = plt.linspace(-10,10,100)\n",
        "\n",
        "# prepare the plot, associate the color r(ed) or b(lue) and the label \n",
        "plt.plot(x, relu(x), 'b', label='linspace(-10,10,10)')\n",
        "\n",
        "# Draw the grid line in background.\n",
        "plt.grid()\n",
        "\n",
        "# 顯現圖示的Title\n",
        "plt.title('ReLU Function')\n",
        "\n",
        "# 顯現 the Sigmoid formula\n",
        "plt.text(4, 0.8, r'$max(0,x)', fontsize=15)\n",
        "\n",
        "#resize the X and Y axes\n",
        "# plt.gca().xaxis.set_major_locator(plt.MultipleLocator(1))\n",
        "# plt.gca().yaxis.set_major_locator(plt.MultipleLocator(0.1))\n",
        " \n",
        "# create the graph\n",
        "plt.show()"
      ],
      "execution_count": 6,
      "outputs": [
        {
          "output_type": "display_data",
          "data": {
            "image/png": "[encoded data removed]",
            "text/plain": [
              "<Figure size 432x288 with 1 Axes>"
            ]
          },
          "metadata": {
            "tags": []
          }
        }
      ]
    },
    {
      "cell_type": "code",
      "metadata": {
        "id": "Xrzzir0dc-YS",
        "colab_type": "code",
        "colab": {}
      },
      "source": [
        ""
      ],
      "execution_count": 0,
      "outputs": []
    }
  ]
}