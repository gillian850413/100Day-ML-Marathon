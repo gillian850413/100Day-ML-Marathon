{
  "nbformat": 4,
  "nbformat_minor": 0,
  "metadata": {
    "kernelspec": {
      "display_name": "Python 3",
      "language": "python",
      "name": "python3"
    },
    "language_info": {
      "codemirror_mode": {
        "name": "ipython",
        "version": 3
      },
      "file_extension": ".py",
      "mimetype": "text/x-python",
      "name": "python",
      "nbconvert_exporter": "python",
      "pygments_lexer": "ipython3",
      "version": "3.6.5"
    },
    "colab": {
      "name": "Day086_HW.ipynb",
      "provenance": [],
      "collapsed_sections": [],
      "toc_visible": true
    }
  },
  "cells": [
    {
      "cell_type": "markdown",
      "metadata": {
        "id": "0MJP0GQQ3ry-",
        "colab_type": "text"
      },
      "source": [
        "## Work\n",
        "1. 試比較 save_best_only 與否的差異\n",
        "2. 請僅存入將 save_weights_only 設定為 True, 並嘗試 reset ipynb 並將模型與權重重新建回並預測 x_test"
      ]
    },
    {
      "cell_type": "code",
      "metadata": {
        "id": "5echwaFr3ry_",
        "colab_type": "code",
        "colab": {
          "base_uri": "https://localhost:8080/",
          "height": 97
        },
        "outputId": "06ba2bb1-3a7a-46c1-8db6-2ebe9117f6c6"
      },
      "source": [
        "import os\n",
        "import keras\n",
        "\n",
        "# Disable GPU\n",
        "os.environ[\"CUDA_VISIBLE_DEVICES\"] = \"\""
      ],
      "execution_count": 1,
      "outputs": [
        {
          "output_type": "stream",
          "text": [
            "Using TensorFlow backend.\n"
          ],
          "name": "stderr"
        },
        {
          "output_type": "display_data",
          "data": {
            "text/html": [
              "<p style=\"color: red;\">\n",
              "The default version of TensorFlow in Colab will soon switch to TensorFlow 2.x.<br>\n",
              "We recommend you <a href=\"https://www.tensorflow.org/guide/migrate\" target=\"_blank\">upgrade</a> now \n",
              "or ensure your notebook will continue to use TensorFlow 1.x via the <code>%tensorflow_version 1.x</code> magic:\n",
              "<a href=\"https://colab.research.google.com/notebooks/tensorflow_version.ipynb\" target=\"_blank\">more info</a>.</p>\n"
            ],
            "text/plain": [
              "<IPython.core.display.HTML object>"
            ]
          },
          "metadata": {
            "tags": []
          }
        }
      ]
    },
    {
      "cell_type": "code",
      "metadata": {
        "id": "aVuPa4Td3rzC",
        "colab_type": "code",
        "colab": {
          "base_uri": "https://localhost:8080/",
          "height": 51
        },
        "outputId": "48d79179-fe84-4385-c911-6ee3c935225b"
      },
      "source": [
        "train, test = keras.datasets.cifar10.load_data()"
      ],
      "execution_count": 2,
      "outputs": [
        {
          "output_type": "stream",
          "text": [
            "Downloading data from https://www.cs.toronto.edu/~kriz/cifar-10-python.tar.gz\n",
            "170500096/170498071 [==============================] - 4s 0us/step\n"
          ],
          "name": "stdout"
        }
      ]
    },
    {
      "cell_type": "code",
      "metadata": {
        "id": "MldwOECJ3rzF",
        "colab_type": "code",
        "colab": {}
      },
      "source": [
        "## 資料前處理\n",
        "def preproc_x(x, flatten=True):\n",
        "    x = x / 255.\n",
        "    if flatten:\n",
        "        x = x.reshape((len(x), -1))\n",
        "    return x\n",
        "\n",
        "def preproc_y(y, num_classes=10):\n",
        "    if y.shape[-1] == 1:\n",
        "        y = keras.utils.to_categorical(y, num_classes)\n",
        "    return y    "
      ],
      "execution_count": 0,
      "outputs": []
    },
    {
      "cell_type": "code",
      "metadata": {
        "id": "7lBlwVTB3rzH",
        "colab_type": "code",
        "colab": {}
      },
      "source": [
        "x_train, y_train = train\n",
        "x_test, y_test = test\n",
        "\n",
        "# Preproc the inputs\n",
        "x_train = preproc_x(x_train)\n",
        "x_test = preproc_x(x_test)\n",
        "\n",
        "# Preprc the outputs\n",
        "y_train = preproc_y(y_train)\n",
        "y_test = preproc_y(y_test)"
      ],
      "execution_count": 0,
      "outputs": []
    },
    {
      "cell_type": "code",
      "metadata": {
        "id": "bpILz77l3rzJ",
        "colab_type": "code",
        "colab": {}
      },
      "source": [
        "from keras.layers import BatchNormalization\n",
        "\n",
        "\"\"\"\n",
        "建立神經網路，並加入 BN layer\n",
        "\"\"\"\n",
        "def build_mlp(input_shape, output_units=10, num_neurons=[512, 256, 128]):\n",
        "    input_layer = keras.layers.Input(input_shape)\n",
        "    \n",
        "    for i, n_units in enumerate(num_neurons):\n",
        "        if i == 0:\n",
        "            x = keras.layers.Dense(units=n_units, \n",
        "                                   activation=\"relu\", \n",
        "                                   name=\"hidden_layer\"+str(i+1))(input_layer)\n",
        "            x = BatchNormalization()(x)\n",
        "        else:\n",
        "            x = keras.layers.Dense(units=n_units, \n",
        "                                   activation=\"relu\", \n",
        "                                   name=\"hidden_layer\"+str(i+1))(x)\n",
        "            x = BatchNormalization()(x)\n",
        "    \n",
        "    out = keras.layers.Dense(units=output_units, activation=\"softmax\", name=\"output\")(x)\n",
        "    \n",
        "    model = keras.models.Model(inputs=[input_layer], outputs=[out])\n",
        "    return model"
      ],
      "execution_count": 0,
      "outputs": []
    },
    {
      "cell_type": "code",
      "metadata": {
        "id": "Lf_L6ICn3rzM",
        "colab_type": "code",
        "colab": {}
      },
      "source": [
        "## 超參數設定\n",
        "LEARNING_RATE = 1e-3\n",
        "EPOCHS = 50\n",
        "BATCH_SIZE = 1024\n",
        "MOMENTUM = 0.95"
      ],
      "execution_count": 0,
      "outputs": []
    },
    {
      "cell_type": "code",
      "metadata": {
        "id": "t25Yu8NK3rzO",
        "colab_type": "code",
        "colab": {
          "base_uri": "https://localhost:8080/",
          "height": 1000
        },
        "outputId": "2c233a0b-c355-401e-931e-ef1dc4bdcccb"
      },
      "source": [
        "# 載入 Callbacks\n",
        "from keras.callbacks import ModelCheckpoint\n",
        "\n",
        "model_ckpt = ModelCheckpoint(filepath=\"./tmp.h5\", \n",
        "                             monitor=\"val_loss\", \n",
        "                             save_best_only=True,\n",
        "                             ) # save_weights_only=True\n",
        "\n",
        "# result\n",
        "model = build_mlp(input_shape=x_train.shape[1:])\n",
        "model.summary()\n",
        "optimizer = keras.optimizers.SGD(lr=LEARNING_RATE, nesterov=True, momentum=MOMENTUM)\n",
        "model.compile(loss=\"categorical_crossentropy\", metrics=[\"accuracy\"], optimizer=optimizer)\n",
        "\n",
        "model.fit(x_train, y_train, \n",
        "          epochs=EPOCHS, \n",
        "          batch_size=BATCH_SIZE, \n",
        "          validation_data=(x_test, y_test), \n",
        "          shuffle=True,\n",
        "          callbacks=[model_ckpt]\n",
        "         )\n",
        "\n",
        "# Collect results\n",
        "train_loss = model.history.history[\"loss\"]\n",
        "valid_loss = model.history.history[\"val_loss\"]\n",
        "train_acc = model.history.history[\"acc\"]\n",
        "valid_acc = model.history.history[\"val_acc\"]"
      ],
      "execution_count": 9,
      "outputs": [
        {
          "output_type": "stream",
          "text": [
            "Model: \"model_2\"\n",
            "_________________________________________________________________\n",
            "Layer (type)                 Output Shape              Param #   \n",
            "=================================================================\n",
            "input_2 (InputLayer)         (None, 3072)              0         \n",
            "_________________________________________________________________\n",
            "hidden_layer1 (Dense)        (None, 512)               1573376   \n",
            "_________________________________________________________________\n",
            "batch_normalization_4 (Batch (None, 512)               2048      \n",
            "_________________________________________________________________\n",
            "hidden_layer2 (Dense)        (None, 256)               131328    \n",
            "_________________________________________________________________\n",
            "batch_normalization_5 (Batch (None, 256)               1024      \n",
            "_________________________________________________________________\n",
            "hidden_layer3 (Dense)        (None, 128)               32896     \n",
            "_________________________________________________________________\n",
            "batch_normalization_6 (Batch (None, 128)               512       \n",
            "_________________________________________________________________\n",
            "output (Dense)               (None, 10)                1290      \n",
            "=================================================================\n",
            "Total params: 1,742,474\n",
            "Trainable params: 1,740,682\n",
            "Non-trainable params: 1,792\n",
            "_________________________________________________________________\n",
            "Train on 50000 samples, validate on 10000 samples\n",
            "Epoch 1/50\n",
            "50000/50000 [==============================] - 10s 193us/step - loss: 2.2110 - acc: 0.2716 - val_loss: 2.1573 - val_acc: 0.3020\n",
            "Epoch 2/50\n",
            "50000/50000 [==============================] - 9s 176us/step - loss: 1.7445 - acc: 0.3926 - val_loss: 1.8366 - val_acc: 0.3695\n",
            "Epoch 3/50\n",
            "50000/50000 [==============================] - 9s 176us/step - loss: 1.6159 - acc: 0.4352 - val_loss: 1.6985 - val_acc: 0.4038\n",
            "Epoch 4/50\n",
            "50000/50000 [==============================] - 9s 175us/step - loss: 1.5418 - acc: 0.4611 - val_loss: 1.6357 - val_acc: 0.4234\n",
            "Epoch 5/50\n",
            "50000/50000 [==============================] - 9s 176us/step - loss: 1.4885 - acc: 0.4779 - val_loss: 1.5908 - val_acc: 0.4406\n",
            "Epoch 6/50\n",
            "50000/50000 [==============================] - 9s 177us/step - loss: 1.4422 - acc: 0.4946 - val_loss: 1.5642 - val_acc: 0.4437\n",
            "Epoch 7/50\n",
            "50000/50000 [==============================] - 9s 177us/step - loss: 1.4044 - acc: 0.5090 - val_loss: 1.5347 - val_acc: 0.4555\n",
            "Epoch 8/50\n",
            "50000/50000 [==============================] - 9s 176us/step - loss: 1.3680 - acc: 0.5230 - val_loss: 1.5299 - val_acc: 0.4610\n",
            "Epoch 9/50\n",
            "50000/50000 [==============================] - 9s 176us/step - loss: 1.3359 - acc: 0.5345 - val_loss: 1.5116 - val_acc: 0.4659\n",
            "Epoch 10/50\n",
            "50000/50000 [==============================] - 9s 177us/step - loss: 1.3045 - acc: 0.5462 - val_loss: 1.5069 - val_acc: 0.4669\n",
            "Epoch 11/50\n",
            "50000/50000 [==============================] - 9s 175us/step - loss: 1.2776 - acc: 0.5540 - val_loss: 1.4978 - val_acc: 0.4715\n",
            "Epoch 12/50\n",
            "50000/50000 [==============================] - 9s 176us/step - loss: 1.2509 - acc: 0.5662 - val_loss: 1.4844 - val_acc: 0.4779\n",
            "Epoch 13/50\n",
            "50000/50000 [==============================] - 9s 175us/step - loss: 1.2251 - acc: 0.5770 - val_loss: 1.4760 - val_acc: 0.4849\n",
            "Epoch 14/50\n",
            "50000/50000 [==============================] - 9s 176us/step - loss: 1.2023 - acc: 0.5862 - val_loss: 1.4775 - val_acc: 0.4800\n",
            "Epoch 15/50\n",
            "50000/50000 [==============================] - 9s 176us/step - loss: 1.1756 - acc: 0.5949 - val_loss: 1.4758 - val_acc: 0.4811\n",
            "Epoch 16/50\n",
            "50000/50000 [==============================] - 9s 175us/step - loss: 1.1541 - acc: 0.6031 - val_loss: 1.4699 - val_acc: 0.4873\n",
            "Epoch 17/50\n",
            "50000/50000 [==============================] - 9s 175us/step - loss: 1.1308 - acc: 0.6114 - val_loss: 1.4655 - val_acc: 0.4844\n",
            "Epoch 18/50\n",
            "50000/50000 [==============================] - 9s 174us/step - loss: 1.1084 - acc: 0.6188 - val_loss: 1.4573 - val_acc: 0.4946\n",
            "Epoch 19/50\n",
            "50000/50000 [==============================] - 9s 175us/step - loss: 1.0862 - acc: 0.6300 - val_loss: 1.4736 - val_acc: 0.4890\n",
            "Epoch 20/50\n",
            "50000/50000 [==============================] - 9s 177us/step - loss: 1.0656 - acc: 0.6363 - val_loss: 1.4627 - val_acc: 0.4931\n",
            "Epoch 21/50\n",
            "50000/50000 [==============================] - 9s 178us/step - loss: 1.0422 - acc: 0.6461 - val_loss: 1.4684 - val_acc: 0.4898\n",
            "Epoch 22/50\n",
            "50000/50000 [==============================] - 9s 177us/step - loss: 1.0210 - acc: 0.6556 - val_loss: 1.4648 - val_acc: 0.4914\n",
            "Epoch 23/50\n",
            "50000/50000 [==============================] - 9s 176us/step - loss: 1.0022 - acc: 0.6612 - val_loss: 1.4779 - val_acc: 0.4939\n",
            "Epoch 24/50\n",
            "50000/50000 [==============================] - 9s 176us/step - loss: 0.9816 - acc: 0.6688 - val_loss: 1.4571 - val_acc: 0.4965\n",
            "Epoch 25/50\n",
            "50000/50000 [==============================] - 9s 176us/step - loss: 0.9599 - acc: 0.6776 - val_loss: 1.4682 - val_acc: 0.4962\n",
            "Epoch 26/50\n",
            "50000/50000 [==============================] - 9s 175us/step - loss: 0.9399 - acc: 0.6867 - val_loss: 1.4778 - val_acc: 0.4952\n",
            "Epoch 27/50\n",
            "50000/50000 [==============================] - 10s 190us/step - loss: 0.9203 - acc: 0.6933 - val_loss: 1.4684 - val_acc: 0.5010\n",
            "Epoch 28/50\n",
            "50000/50000 [==============================] - 9s 179us/step - loss: 0.8999 - acc: 0.7023 - val_loss: 1.4734 - val_acc: 0.4996\n",
            "Epoch 29/50\n",
            "50000/50000 [==============================] - 9s 177us/step - loss: 0.8807 - acc: 0.7096 - val_loss: 1.4891 - val_acc: 0.4972\n",
            "Epoch 30/50\n",
            "50000/50000 [==============================] - 9s 176us/step - loss: 0.8593 - acc: 0.7183 - val_loss: 1.4890 - val_acc: 0.4969\n",
            "Epoch 31/50\n",
            "50000/50000 [==============================] - 9s 177us/step - loss: 0.8412 - acc: 0.7252 - val_loss: 1.5100 - val_acc: 0.4950\n",
            "Epoch 32/50\n",
            "50000/50000 [==============================] - 9s 175us/step - loss: 0.8228 - acc: 0.7323 - val_loss: 1.5094 - val_acc: 0.4919\n",
            "Epoch 33/50\n",
            "50000/50000 [==============================] - 9s 175us/step - loss: 0.8036 - acc: 0.7393 - val_loss: 1.4958 - val_acc: 0.4989\n",
            "Epoch 34/50\n",
            "50000/50000 [==============================] - 9s 178us/step - loss: 0.7849 - acc: 0.7474 - val_loss: 1.5120 - val_acc: 0.4992\n",
            "Epoch 35/50\n",
            "50000/50000 [==============================] - 9s 178us/step - loss: 0.7661 - acc: 0.7559 - val_loss: 1.5633 - val_acc: 0.4860\n",
            "Epoch 36/50\n",
            "50000/50000 [==============================] - 9s 178us/step - loss: 0.7495 - acc: 0.7600 - val_loss: 1.5272 - val_acc: 0.4969\n",
            "Epoch 37/50\n",
            "50000/50000 [==============================] - 9s 178us/step - loss: 0.7276 - acc: 0.7708 - val_loss: 1.5409 - val_acc: 0.4977\n",
            "Epoch 38/50\n",
            "50000/50000 [==============================] - 9s 177us/step - loss: 0.7087 - acc: 0.7782 - val_loss: 1.5456 - val_acc: 0.4961\n",
            "Epoch 39/50\n",
            "50000/50000 [==============================] - 9s 176us/step - loss: 0.6912 - acc: 0.7844 - val_loss: 1.5611 - val_acc: 0.4948\n",
            "Epoch 40/50\n",
            "50000/50000 [==============================] - 9s 176us/step - loss: 0.6727 - acc: 0.7922 - val_loss: 1.5747 - val_acc: 0.4957\n",
            "Epoch 41/50\n",
            "50000/50000 [==============================] - 9s 179us/step - loss: 0.6549 - acc: 0.7983 - val_loss: 1.5848 - val_acc: 0.4931\n",
            "Epoch 42/50\n",
            "50000/50000 [==============================] - 9s 177us/step - loss: 0.6370 - acc: 0.8061 - val_loss: 1.5987 - val_acc: 0.4912\n",
            "Epoch 43/50\n",
            "50000/50000 [==============================] - 9s 175us/step - loss: 0.6207 - acc: 0.8126 - val_loss: 1.6101 - val_acc: 0.4918\n",
            "Epoch 44/50\n",
            "50000/50000 [==============================] - 9s 176us/step - loss: 0.6046 - acc: 0.8176 - val_loss: 1.6202 - val_acc: 0.4943\n",
            "Epoch 45/50\n",
            "50000/50000 [==============================] - 9s 176us/step - loss: 0.5859 - acc: 0.8263 - val_loss: 1.6222 - val_acc: 0.4957\n",
            "Epoch 46/50\n",
            "50000/50000 [==============================] - 9s 175us/step - loss: 0.5690 - acc: 0.8336 - val_loss: 1.6355 - val_acc: 0.4933\n",
            "Epoch 47/50\n",
            "50000/50000 [==============================] - 9s 175us/step - loss: 0.5522 - acc: 0.8417 - val_loss: 1.6502 - val_acc: 0.4957\n",
            "Epoch 48/50\n",
            "50000/50000 [==============================] - 9s 175us/step - loss: 0.5347 - acc: 0.8478 - val_loss: 1.6691 - val_acc: 0.4904\n",
            "Epoch 49/50\n",
            "50000/50000 [==============================] - 9s 176us/step - loss: 0.5180 - acc: 0.8530 - val_loss: 1.6995 - val_acc: 0.4860\n",
            "Epoch 50/50\n",
            "50000/50000 [==============================] - 9s 175us/step - loss: 0.5035 - acc: 0.8593 - val_loss: 1.6848 - val_acc: 0.4952\n"
          ],
          "name": "stdout"
        },
        {
          "output_type": "error",
          "ename": "ValueError",
          "evalue": "ignored",
          "traceback": [
            "\u001b[0;31m---------------------------------------------------------------------------\u001b[0m",
            "\u001b[0;31mValueError\u001b[0m                                Traceback (most recent call last)",
            "\u001b[0;32m<ipython-input-9-69593a0eaf90>\u001b[0m in \u001b[0;36m<module>\u001b[0;34m()\u001b[0m\n\u001b[1;32m     27\u001b[0m \u001b[0;34m\u001b[0m\u001b[0m\n\u001b[1;32m     28\u001b[0m \u001b[0;31m# Load back\u001b[0m\u001b[0;34m\u001b[0m\u001b[0;34m\u001b[0m\u001b[0;34m\u001b[0m\u001b[0m\n\u001b[0;32m---> 29\u001b[0;31m \u001b[0mmodel\u001b[0m \u001b[0;34m=\u001b[0m \u001b[0mkeras\u001b[0m\u001b[0;34m.\u001b[0m\u001b[0mmodels\u001b[0m\u001b[0;34m.\u001b[0m\u001b[0mload_model\u001b[0m\u001b[0;34m(\u001b[0m\u001b[0;34m\"./tmp.h5\"\u001b[0m\u001b[0;34m)\u001b[0m\u001b[0;34m\u001b[0m\u001b[0;34m\u001b[0m\u001b[0m\n\u001b[0m\u001b[1;32m     30\u001b[0m \u001b[0mloss_loadback\u001b[0m\u001b[0;34m,\u001b[0m \u001b[0macc_loadback\u001b[0m \u001b[0;34m=\u001b[0m \u001b[0mmodel\u001b[0m\u001b[0;34m.\u001b[0m\u001b[0mevaluate\u001b[0m\u001b[0;34m(\u001b[0m\u001b[0mx_test\u001b[0m\u001b[0;34m,\u001b[0m \u001b[0my_test\u001b[0m\u001b[0;34m)\u001b[0m\u001b[0;34m\u001b[0m\u001b[0;34m\u001b[0m\u001b[0m\n",
            "\u001b[0;32m/usr/local/lib/python3.6/dist-packages/keras/engine/saving.py\u001b[0m in \u001b[0;36mload_wrapper\u001b[0;34m(*args, **kwargs)\u001b[0m\n\u001b[1;32m    456\u001b[0m                 \u001b[0mos\u001b[0m\u001b[0;34m.\u001b[0m\u001b[0mremove\u001b[0m\u001b[0;34m(\u001b[0m\u001b[0mtmp_filepath\u001b[0m\u001b[0;34m)\u001b[0m\u001b[0;34m\u001b[0m\u001b[0;34m\u001b[0m\u001b[0m\n\u001b[1;32m    457\u001b[0m             \u001b[0;32mreturn\u001b[0m \u001b[0mres\u001b[0m\u001b[0;34m\u001b[0m\u001b[0;34m\u001b[0m\u001b[0m\n\u001b[0;32m--> 458\u001b[0;31m         \u001b[0;32mreturn\u001b[0m \u001b[0mload_function\u001b[0m\u001b[0;34m(\u001b[0m\u001b[0;34m*\u001b[0m\u001b[0margs\u001b[0m\u001b[0;34m,\u001b[0m \u001b[0;34m**\u001b[0m\u001b[0mkwargs\u001b[0m\u001b[0;34m)\u001b[0m\u001b[0;34m\u001b[0m\u001b[0;34m\u001b[0m\u001b[0m\n\u001b[0m\u001b[1;32m    459\u001b[0m \u001b[0;34m\u001b[0m\u001b[0m\n\u001b[1;32m    460\u001b[0m     \u001b[0;32mreturn\u001b[0m \u001b[0mload_wrapper\u001b[0m\u001b[0;34m\u001b[0m\u001b[0;34m\u001b[0m\u001b[0m\n",
            "\u001b[0;32m/usr/local/lib/python3.6/dist-packages/keras/engine/saving.py\u001b[0m in \u001b[0;36mload_model\u001b[0;34m(filepath, custom_objects, compile)\u001b[0m\n\u001b[1;32m    548\u001b[0m     \u001b[0;32mif\u001b[0m \u001b[0mH5Dict\u001b[0m\u001b[0;34m.\u001b[0m\u001b[0mis_supported_type\u001b[0m\u001b[0;34m(\u001b[0m\u001b[0mfilepath\u001b[0m\u001b[0;34m)\u001b[0m\u001b[0;34m:\u001b[0m\u001b[0;34m\u001b[0m\u001b[0;34m\u001b[0m\u001b[0m\n\u001b[1;32m    549\u001b[0m         \u001b[0;32mwith\u001b[0m \u001b[0mH5Dict\u001b[0m\u001b[0;34m(\u001b[0m\u001b[0mfilepath\u001b[0m\u001b[0;34m,\u001b[0m \u001b[0mmode\u001b[0m\u001b[0;34m=\u001b[0m\u001b[0;34m'r'\u001b[0m\u001b[0;34m)\u001b[0m \u001b[0;32mas\u001b[0m \u001b[0mh5dict\u001b[0m\u001b[0;34m:\u001b[0m\u001b[0;34m\u001b[0m\u001b[0;34m\u001b[0m\u001b[0m\n\u001b[0;32m--> 550\u001b[0;31m             \u001b[0mmodel\u001b[0m \u001b[0;34m=\u001b[0m \u001b[0m_deserialize_model\u001b[0m\u001b[0;34m(\u001b[0m\u001b[0mh5dict\u001b[0m\u001b[0;34m,\u001b[0m \u001b[0mcustom_objects\u001b[0m\u001b[0;34m,\u001b[0m \u001b[0mcompile\u001b[0m\u001b[0;34m)\u001b[0m\u001b[0;34m\u001b[0m\u001b[0;34m\u001b[0m\u001b[0m\n\u001b[0m\u001b[1;32m    551\u001b[0m     \u001b[0;32melif\u001b[0m \u001b[0mhasattr\u001b[0m\u001b[0;34m(\u001b[0m\u001b[0mfilepath\u001b[0m\u001b[0;34m,\u001b[0m \u001b[0;34m'write'\u001b[0m\u001b[0;34m)\u001b[0m \u001b[0;32mand\u001b[0m \u001b[0mcallable\u001b[0m\u001b[0;34m(\u001b[0m\u001b[0mfilepath\u001b[0m\u001b[0;34m.\u001b[0m\u001b[0mwrite\u001b[0m\u001b[0;34m)\u001b[0m\u001b[0;34m:\u001b[0m\u001b[0;34m\u001b[0m\u001b[0;34m\u001b[0m\u001b[0m\n\u001b[1;32m    552\u001b[0m         \u001b[0;32mdef\u001b[0m \u001b[0mload_function\u001b[0m\u001b[0;34m(\u001b[0m\u001b[0mh5file\u001b[0m\u001b[0;34m)\u001b[0m\u001b[0;34m:\u001b[0m\u001b[0;34m\u001b[0m\u001b[0;34m\u001b[0m\u001b[0m\n",
            "\u001b[0;32m/usr/local/lib/python3.6/dist-packages/keras/engine/saving.py\u001b[0m in \u001b[0;36m_deserialize_model\u001b[0;34m(h5dict, custom_objects, compile)\u001b[0m\n\u001b[1;32m    237\u001b[0m         \u001b[0;32mreturn\u001b[0m \u001b[0mobj\u001b[0m\u001b[0;34m\u001b[0m\u001b[0;34m\u001b[0m\u001b[0m\n\u001b[1;32m    238\u001b[0m \u001b[0;34m\u001b[0m\u001b[0m\n\u001b[0;32m--> 239\u001b[0;31m     \u001b[0mmodel_config\u001b[0m \u001b[0;34m=\u001b[0m \u001b[0mh5dict\u001b[0m\u001b[0;34m[\u001b[0m\u001b[0;34m'model_config'\u001b[0m\u001b[0;34m]\u001b[0m\u001b[0;34m\u001b[0m\u001b[0;34m\u001b[0m\u001b[0m\n\u001b[0m\u001b[1;32m    240\u001b[0m     \u001b[0;32mif\u001b[0m \u001b[0mmodel_config\u001b[0m \u001b[0;32mis\u001b[0m \u001b[0;32mNone\u001b[0m\u001b[0;34m:\u001b[0m\u001b[0;34m\u001b[0m\u001b[0;34m\u001b[0m\u001b[0m\n\u001b[1;32m    241\u001b[0m         \u001b[0;32mraise\u001b[0m \u001b[0mValueError\u001b[0m\u001b[0;34m(\u001b[0m\u001b[0;34m'No model found in config.'\u001b[0m\u001b[0;34m)\u001b[0m\u001b[0;34m\u001b[0m\u001b[0;34m\u001b[0m\u001b[0m\n",
            "\u001b[0;32m/usr/local/lib/python3.6/dist-packages/keras/utils/io_utils.py\u001b[0m in \u001b[0;36m__getitem__\u001b[0;34m(self, attr)\u001b[0m\n\u001b[1;32m    316\u001b[0m             \u001b[0;32melse\u001b[0m\u001b[0;34m:\u001b[0m\u001b[0;34m\u001b[0m\u001b[0;34m\u001b[0m\u001b[0m\n\u001b[1;32m    317\u001b[0m                 \u001b[0;32mif\u001b[0m \u001b[0mself\u001b[0m\u001b[0;34m.\u001b[0m\u001b[0mread_only\u001b[0m\u001b[0;34m:\u001b[0m\u001b[0;34m\u001b[0m\u001b[0;34m\u001b[0m\u001b[0m\n\u001b[0;32m--> 318\u001b[0;31m                     \u001b[0;32mraise\u001b[0m \u001b[0mValueError\u001b[0m\u001b[0;34m(\u001b[0m\u001b[0;34m'Cannot create group in read-only mode.'\u001b[0m\u001b[0;34m)\u001b[0m\u001b[0;34m\u001b[0m\u001b[0;34m\u001b[0m\u001b[0m\n\u001b[0m\u001b[1;32m    319\u001b[0m                 \u001b[0mval\u001b[0m \u001b[0;34m=\u001b[0m \u001b[0mH5Dict\u001b[0m\u001b[0;34m(\u001b[0m\u001b[0mself\u001b[0m\u001b[0;34m.\u001b[0m\u001b[0mdata\u001b[0m\u001b[0;34m.\u001b[0m\u001b[0mcreate_group\u001b[0m\u001b[0;34m(\u001b[0m\u001b[0mattr\u001b[0m\u001b[0;34m)\u001b[0m\u001b[0;34m)\u001b[0m\u001b[0;34m\u001b[0m\u001b[0;34m\u001b[0m\u001b[0m\n\u001b[1;32m    320\u001b[0m         \u001b[0;32mreturn\u001b[0m \u001b[0mval\u001b[0m\u001b[0;34m\u001b[0m\u001b[0;34m\u001b[0m\u001b[0m\n",
            "\u001b[0;31mValueError\u001b[0m: Cannot create group in read-only mode."
          ]
        }
      ]
    },
    {
      "cell_type": "code",
      "metadata": {
        "id": "33AwPtJ0RdbC",
        "colab_type": "code",
        "colab": {}
      },
      "source": [
        "# Load back the model \n",
        "model = keras.models.load_model(\"./tmp.h5\")\n",
        "loss_loadback, acc_loadback = model.evaluate(x_test, y_test)"
      ],
      "execution_count": 0,
      "outputs": []
    },
    {
      "cell_type": "code",
      "metadata": {
        "id": "H95Qc59fTeGi",
        "colab_type": "code",
        "colab": {}
      },
      "source": [
        "# save_weights_only=True, the file will only save weights\n",
        "model.load_weights(\"./tmp.h5\")"
      ],
      "execution_count": 0,
      "outputs": []
    },
    {
      "cell_type": "code",
      "metadata": {
        "scrolled": true,
        "id": "Tju9-n-i3rzQ",
        "colab_type": "code",
        "colab": {
          "base_uri": "https://localhost:8080/",
          "height": 545
        },
        "outputId": "c27cf652-ac92-4aee-ea2f-0fce1c18b3b8"
      },
      "source": [
        "import matplotlib.pyplot as plt\n",
        "%matplotlib inline\n",
        "\n",
        "plt.plot(range(len(train_loss)), train_loss, label=\"train loss\")\n",
        "plt.plot(range(len(valid_loss)), valid_loss, label=\"valid loss\")\n",
        "plt.hlines(y=loss_loadback, xmin=0, xmax=len(train_loss), colors='r', linestyles='--')\n",
        "plt.legend()\n",
        "plt.title(\"Loss\")\n",
        "plt.show()\n",
        "\n",
        "plt.plot(range(len(train_acc)), train_acc, label=\"train accuracy\")\n",
        "plt.plot(range(len(valid_acc)), valid_acc, label=\"valid accuracy\")\n",
        "plt.hlines(y=acc_loadback, xmin=0, xmax=len(train_loss), colors='r', linestyles='--')\n",
        "plt.legend()\n",
        "plt.title(\"Accuracy\")\n",
        "plt.show()"
      ],
      "execution_count": 8,
      "outputs": [
        {
          "output_type": "display_data",
          "data": {
            "image/png": "[encoded data removed]",
            "text/plain": [
              "<Figure size 432x288 with 1 Axes>"
            ]
          },
          "metadata": {
            "tags": []
          }
        },
        {
          "output_type": "display_data",
          "data": {
            "image/png": "[encoded data removed]",
            "text/plain": [
              "<Figure size 432x288 with 1 Axes>"
            ]
          },
          "metadata": {
            "tags": []
          }
        }
      ]
    }
  ]
}