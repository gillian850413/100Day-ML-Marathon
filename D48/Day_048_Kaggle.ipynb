{
 "cells": [
  {
   "cell_type": "markdown",
   "metadata": {
    "toc": true
   },
   "source": [
    "<h1>Table of Contents<span class=\"tocSkip\"></span></h1>\n",
    "<div class=\"toc\"><ul class=\"toc-item\"><li><span><a href=\"#Kaggle:-Data-Science-London-+-Scikit-learn\" data-toc-modified-id=\"Kaggle:-Data-Science-London-+-Scikit-learn-1\"><span class=\"toc-item-num\">1&nbsp;&nbsp;</span>Kaggle: Data Science London + Scikit-learn</a></span></li></ul></div>"
   ]
  },
  {
   "cell_type": "markdown",
   "metadata": {},
   "source": [
    "# Kaggle: Data Science London + Scikit-learn"
   ]
  },
  {
   "cell_type": "code",
   "execution_count": 85,
   "metadata": {},
   "outputs": [],
   "source": [
    "import numpy as np\n",
    "import pandas as pd\n",
    "import matplotlib.pyplot as plt"
   ]
  },
  {
   "cell_type": "code",
   "execution_count": 86,
   "metadata": {},
   "outputs": [],
   "source": [
    "from sklearn.model_selection import train_test_split\n",
    "from sklearn.metrics import accuracy_score, roc_auc_score\n",
    "from sklearn.model_selection import cross_val_score\n",
    "from sklearn.linear_model import LogisticRegression\n",
    "from sklearn.naive_bayes import GaussianNB\n",
    "from sklearn.ensemble import RandomForestClassifier, AdaBoostClassifier, GradientBoostingClassifier\n",
    "from sklearn.neighbors import KNeighborsClassifier\n",
    "from sklearn.svm import LinearSVC\n",
    "from sklearn.tree import DecisionTreeClassifier"
   ]
  },
  {
   "cell_type": "code",
   "execution_count": 87,
   "metadata": {},
   "outputs": [],
   "source": [
    "import warnings\n",
    "warnings.filterwarnings(\"ignore\")"
   ]
  },
  {
   "cell_type": "code",
   "execution_count": 88,
   "metadata": {},
   "outputs": [],
   "source": [
    "X = pd.read_csv('data-science-london-scikit-learn/train.csv')\n",
    "y = pd.read_csv('data-science-london-scikit-learn/trainLabels.csv')\n",
    "test = pd.read_csv('data-science-london-scikit-learn/test.csv')"
   ]
  },
  {
   "cell_type": "code",
   "execution_count": 89,
   "metadata": {},
   "outputs": [],
   "source": [
    "X = pd.DataFrame(np.vstack([X.columns, X])).fillna(0).astype('float')\n",
    "y = pd.DataFrame(np.vstack([y.columns, y])).astype('int')\n",
    "test = pd.DataFrame(np.vstack([test.columns, test])).fillna(0).astype('float')"
   ]
  },
  {
   "cell_type": "code",
   "execution_count": 90,
   "metadata": {},
   "outputs": [],
   "source": [
    "X_train, X_test, y_train, y_test = train_test_split(X, y, test_size=0.25, random_state=4)"
   ]
  },
  {
   "cell_type": "code",
   "execution_count": 91,
   "metadata": {},
   "outputs": [],
   "source": [
    "clf_dict = {'log reg': LogisticRegression(), \n",
    "            'naive bayes': GaussianNB(), \n",
    "            'knn': KNeighborsClassifier(),\n",
    "            'linear svc': LinearSVC(),\n",
    "            'ada boost': AdaBoostClassifier(n_estimators=100),\n",
    "            'gradient boosting': GradientBoostingClassifier(n_estimators=100),\n",
    "            'CART': DecisionTreeClassifier(),\n",
    "            'random forest': RandomForestClassifier(n_estimators=100)}"
   ]
  },
  {
   "cell_type": "code",
   "execution_count": 92,
   "metadata": {},
   "outputs": [
    {
     "name": "stdout",
     "output_type": "stream",
     "text": [
      "Cross Validation of log reg: 0.8030118539592224\n",
      "Accuracy of log reg: 0.82\n",
      "Cross Validation of naive bayes: 0.8188904694167851\n",
      "Accuracy of naive bayes: 0.836\n",
      "Cross Validation of knn: 0.8963413940256046\n",
      "Accuracy of knn: 0.872\n",
      "Cross Validation of linear svc: 0.8082930298719772\n",
      "Accuracy of linear svc: 0.824\n",
      "Cross Validation of ada boost: 0.7657790422000949\n",
      "Accuracy of ada boost: 0.784\n",
      "Cross Validation of gradient boosting: 0.8588065433854908\n",
      "Accuracy of gradient boosting: 0.892\n",
      "Cross Validation of CART: 0.7630232337600759\n",
      "Accuracy of CART: 0.796\n",
      "Cross Validation of random forest: 0.8590018966334755\n",
      "Accuracy of random forest: 0.896\n"
     ]
    }
   ],
   "source": [
    "for name, clf in clf_dict.items():\n",
    "    model = clf.fit(X_train, y_train)\n",
    "    \n",
    "    print('Cross Validation of {}:'.format(name), cross_val_score(model, X_train, y_train, cv=10).mean())  \n",
    "    \n",
    "    y_pred = clf.predict(X_test)\n",
    "    print('Accuracy of {}:'.format(name), accuracy_score(y_test, y_pred))"
   ]
  },
  {
   "cell_type": "code",
   "execution_count": 93,
   "metadata": {},
   "outputs": [],
   "source": [
    "knn = KNeighborsClassifier()\n",
    "model = clf.fit(X_train, y_train)\n",
    "\n",
    "y_pred = clf.predict(test)"
   ]
  },
  {
   "cell_type": "code",
   "execution_count": 94,
   "metadata": {},
   "outputs": [],
   "source": [
    "test_labels = pd.DataFrame(y_pred).reset_index()\n",
    "test_labels.columns = ['Id', 'Solution']\n",
    "test_labels['Id'] += 1\n",
    "test_labels = test_labels.set_index('Id')"
   ]
  },
  {
   "cell_type": "code",
   "execution_count": 95,
   "metadata": {},
   "outputs": [],
   "source": [
    "pd.DataFrame(test_labels).to_csv('data-science-london-scikit-learn/testLabels.csv')"
   ]
  },
  {
   "cell_type": "code",
   "execution_count": null,
   "metadata": {},
   "outputs": [],
   "source": []
  }
 ],
 "metadata": {
  "kernelspec": {
   "display_name": "Python 3",
   "language": "python",
   "name": "python3"
  },
  "language_info": {
   "codemirror_mode": {
    "name": "ipython",
    "version": 3
   },
   "file_extension": ".py",
   "mimetype": "text/x-python",
   "name": "python",
   "nbconvert_exporter": "python",
   "pygments_lexer": "ipython3",
   "version": "3.7.2"
  },
  "toc": {
   "base_numbering": 1,
   "nav_menu": {},
   "number_sections": true,
   "sideBar": true,
   "skip_h1_title": false,
   "title_cell": "Table of Contents",
   "title_sidebar": "Contents",
   "toc_cell": true,
   "toc_position": {},
   "toc_section_display": true,
   "toc_window_display": true
  }
 },
 "nbformat": 4,
 "nbformat_minor": 2
}
