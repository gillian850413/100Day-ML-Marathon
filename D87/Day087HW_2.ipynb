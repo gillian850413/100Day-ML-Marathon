{
  "nbformat": 4,
  "nbformat_minor": 0,
  "metadata": {
    "kernelspec": {
      "display_name": "Python 3",
      "language": "python",
      "name": "python3"
    },
    "language_info": {
      "codemirror_mode": {
        "name": "ipython",
        "version": 3
      },
      "file_extension": ".py",
      "mimetype": "text/x-python",
      "name": "python",
      "nbconvert_exporter": "python",
      "pygments_lexer": "ipython3",
      "version": "3.6.5"
    },
    "colab": {
      "name": "Day087HW.ipynb",
      "provenance": []
    }
  },
  "cells": [
    {
      "cell_type": "markdown",
      "metadata": {
        "id": "an92iye0SSV4",
        "colab_type": "text"
      },
      "source": [
        "## Work\n",
        "1. 請改變 reduce_lr 的 patience 和 factor 並比較不同設定下，對訓練/驗證集的影響\n",
        "2. 請將 optimizer 換成 Adam、RMSprop 搭配 reduce_lr 並比較訓練結果"
      ]
    },
    {
      "cell_type": "code",
      "metadata": {
        "id": "08uzp7s7SSV5",
        "colab_type": "code",
        "colab": {
          "base_uri": "https://localhost:8080/",
          "height": 80
        },
        "outputId": "f2b21c64-af02-4a17-dae1-0ef48082559c"
      },
      "source": [
        "import os\n",
        "import keras\n",
        "\n",
        "# Disable GPU\n",
        "os.environ[\"CUDA_VISIBLE_DEVICES\"] = \"\""
      ],
      "execution_count": 1,
      "outputs": [
        {
          "output_type": "stream",
          "text": [
            "Using TensorFlow backend.\n"
          ],
          "name": "stderr"
        },
        {
          "output_type": "display_data",
          "data": {
            "text/html": [
              "<p style=\"color: red;\">\n",
              "The default version of TensorFlow in Colab will soon switch to TensorFlow 2.x.<br>\n",
              "We recommend you <a href=\"https://www.tensorflow.org/guide/migrate\" target=\"_blank\">upgrade</a> now \n",
              "or ensure your notebook will continue to use TensorFlow 1.x via the <code>%tensorflow_version 1.x</code> magic:\n",
              "<a href=\"https://colab.research.google.com/notebooks/tensorflow_version.ipynb\" target=\"_blank\">more info</a>.</p>\n"
            ],
            "text/plain": [
              "<IPython.core.display.HTML object>"
            ]
          },
          "metadata": {
            "tags": []
          }
        }
      ]
    },
    {
      "cell_type": "code",
      "metadata": {
        "id": "KTH3scSySSV8",
        "colab_type": "code",
        "colab": {
          "base_uri": "https://localhost:8080/",
          "height": 51
        },
        "outputId": "9358ce3d-2a26-41cc-df1a-a4f1318ce8b3"
      },
      "source": [
        "train, test = keras.datasets.cifar10.load_data()"
      ],
      "execution_count": 2,
      "outputs": [
        {
          "output_type": "stream",
          "text": [
            "Downloading data from https://www.cs.toronto.edu/~kriz/cifar-10-python.tar.gz\n",
            "170500096/170498071 [==============================] - 6s 0us/step\n"
          ],
          "name": "stdout"
        }
      ]
    },
    {
      "cell_type": "code",
      "metadata": {
        "id": "y45FmF7mSSV-",
        "colab_type": "code",
        "colab": {}
      },
      "source": [
        "## 資料前處理\n",
        "def preproc_x(x, flatten=True):\n",
        "    x = x / 255.\n",
        "    if flatten:\n",
        "        x = x.reshape((len(x), -1))\n",
        "    return x\n",
        "\n",
        "def preproc_y(y, num_classes=10):\n",
        "    if y.shape[-1] == 1:\n",
        "        y = keras.utils.to_categorical(y, num_classes)\n",
        "    return y    "
      ],
      "execution_count": 0,
      "outputs": []
    },
    {
      "cell_type": "code",
      "metadata": {
        "id": "tqVXDIUaSSWA",
        "colab_type": "code",
        "colab": {}
      },
      "source": [
        "x_train, y_train = train\n",
        "x_test, y_test = test\n",
        "\n",
        "# Preproc the inputs\n",
        "x_train = preproc_x(x_train)\n",
        "x_test = preproc_x(x_test)\n",
        "\n",
        "# Preprc the outputs\n",
        "y_train = preproc_y(y_train)\n",
        "y_test = preproc_y(y_test)"
      ],
      "execution_count": 0,
      "outputs": []
    },
    {
      "cell_type": "code",
      "metadata": {
        "id": "I7NzgL0qSSWC",
        "colab_type": "code",
        "colab": {}
      },
      "source": [
        "from keras.layers import BatchNormalization\n",
        "\n",
        "def build_mlp(input_shape, output_units=10, num_neurons=[256, 256, 256]):\n",
        "    input_layer = keras.layers.Input(input_shape)\n",
        "    \n",
        "    for i, n_units in enumerate(num_neurons):\n",
        "        if i == 0:\n",
        "            x = keras.layers.Dense(units=n_units, \n",
        "                                   activation=\"relu\", \n",
        "                                   name=\"hidden_layer\"+str(i+1))(input_layer)\n",
        "            x = BatchNormalization()(x)\n",
        "        else:\n",
        "            x = keras.layers.Dense(units=n_units, \n",
        "                                   activation=\"relu\", \n",
        "                                   name=\"hidden_layer\"+str(i+1))(x)\n",
        "            x = BatchNormalization()(x)\n",
        "    \n",
        "    out = keras.layers.Dense(units=output_units, activation=\"softmax\", name=\"output\")(x)\n",
        "    \n",
        "    model = keras.models.Model(inputs=[input_layer], outputs=[out])\n",
        "    return model"
      ],
      "execution_count": 0,
      "outputs": []
    },
    {
      "cell_type": "code",
      "metadata": {
        "id": "j2vJ0CsWSSWE",
        "colab_type": "code",
        "colab": {}
      },
      "source": [
        "LEARNING_RATE = 1e-3\n",
        "EPOCHS = 25 # IF you feel too run to finish, try to make it smaller\n",
        "BATCH_SIZE = 1024 "
      ],
      "execution_count": 0,
      "outputs": []
    },
    {
      "cell_type": "code",
      "metadata": {
        "id": "Tt2Tou9ISSWG",
        "colab_type": "code",
        "colab": {}
      },
      "source": [
        "# 載入 Callbacks\n",
        "from keras.callbacks import ReduceLROnPlateau\n",
        "\n",
        "optimizer_set = [keras.optimizers.SGD(lr=LEARNING_RATE, nesterov=True, momentum=0.95),\n",
        "                 keras.optimizers.Adam(lr=LEARNING_RATE),\n",
        "                 keras.optimizers.RMSprop(lr=LEARNING_RATE)]\n",
        "\n",
        "\"\"\"Code Here\n",
        "建立實驗的比較組合\n",
        "\"\"\"\n",
        "reduce_lr_factor = [0.25, 0.5, 0.75, 1]\n",
        "redice_lr_patient = [1, 2, 3, 4, 5]"
      ],
      "execution_count": 0,
      "outputs": []
    },
    {
      "cell_type": "code",
      "metadata": {
        "scrolled": true,
        "id": "dHg1kREFSSWI",
        "colab_type": "code",
        "colab": {
          "base_uri": "https://localhost:8080/",
          "height": 1000
        },
        "outputId": "dae00468-4cd3-4205-8869-a06def4d5568"
      },
      "source": [
        "import itertools\n",
        "results = {}\n",
        "for i, (optim, reduce_factor, reduce_patient) in enumerate(itertools.product(optimizer_set, reduce_lr_factor, redice_lr_patient)):\n",
        "    print(\"Numbers of exp: %i, reduce_factor: %.2f, reduce_patient: %i\" % (i, reduce_factor, reduce_patient))\n",
        "    model = build_mlp(input_shape=x_train.shape[1:])\n",
        "    model.summary()\n",
        "    model.compile(loss=\"categorical_crossentropy\", metrics=[\"accuracy\"], optimizer=optim)\n",
        "    \n",
        "    \"\"\"Code Here\n",
        "    設定 reduce learning rate 的 callback function\n",
        "    \"\"\"\n",
        "    reduce_lr = ReduceLROnPlateau(factor=reduce_factor, \n",
        "                              min_lr=1e-12, \n",
        "                              monitor='val_loss', \n",
        "                              patience=reduce_patient, \n",
        "                              verbose=1)\n",
        "    \n",
        "    model.fit(x_train, y_train, \n",
        "              epochs=EPOCHS, \n",
        "              batch_size=BATCH_SIZE, \n",
        "              validation_data=(x_test, y_test), \n",
        "              shuffle=True,\n",
        "              callbacks=[reduce_lr]\n",
        "             )\n",
        "\n",
        "    # Collect results\n",
        "    exp_name_tag = (\"exp-%s\" % (i))\n",
        "    results[exp_name_tag] = {'train-loss': model.history.history[\"loss\"],\n",
        "                             'valid-loss': model.history.history[\"val_loss\"],\n",
        "                             'train-acc': model.history.history[\"acc\"],\n",
        "                             'valid-acc': model.history.history[\"val_acc\"]}"
      ],
      "execution_count": 0,
      "outputs": [
        {
          "output_type": "stream",
          "text": [
            "Numbers of exp: 0, reduce_factor: 0.25, reduce_patient: 1\n",
            "WARNING:tensorflow:From /usr/local/lib/python3.6/dist-packages/keras/backend/tensorflow_backend.py:148: The name tf.placeholder_with_default is deprecated. Please use tf.compat.v1.placeholder_with_default instead.\n",
            "\n",
            "Model: \"model_1\"\n",
            "_________________________________________________________________\n",
            "Layer (type)                 Output Shape              Param #   \n",
            "=================================================================\n",
            "input_2 (InputLayer)         (None, 3072)              0         \n",
            "_________________________________________________________________\n",
            "hidden_layer1 (Dense)        (None, 256)               786688    \n",
            "_________________________________________________________________\n",
            "batch_normalization_1 (Batch (None, 256)               1024      \n",
            "_________________________________________________________________\n",
            "hidden_layer2 (Dense)        (None, 256)               65792     \n",
            "_________________________________________________________________\n",
            "batch_normalization_2 (Batch (None, 256)               1024      \n",
            "_________________________________________________________________\n",
            "hidden_layer3 (Dense)        (None, 256)               65792     \n",
            "_________________________________________________________________\n",
            "batch_normalization_3 (Batch (None, 256)               1024      \n",
            "_________________________________________________________________\n",
            "output (Dense)               (None, 10)                2570      \n",
            "=================================================================\n",
            "Total params: 923,914\n",
            "Trainable params: 922,378\n",
            "Non-trainable params: 1,536\n",
            "_________________________________________________________________\n",
            "WARNING:tensorflow:From /usr/local/lib/python3.6/dist-packages/keras/optimizers.py:793: The name tf.train.Optimizer is deprecated. Please use tf.compat.v1.train.Optimizer instead.\n",
            "\n",
            "WARNING:tensorflow:From /usr/local/lib/python3.6/dist-packages/keras/backend/tensorflow_backend.py:3576: The name tf.log is deprecated. Please use tf.math.log instead.\n",
            "\n",
            "WARNING:tensorflow:From /usr/local/lib/python3.6/dist-packages/tensorflow_core/python/ops/math_grad.py:1424: where (from tensorflow.python.ops.array_ops) is deprecated and will be removed in a future version.\n",
            "Instructions for updating:\n",
            "Use tf.where in 2.0, which has the same broadcast rule as np.where\n",
            "WARNING:tensorflow:From /usr/local/lib/python3.6/dist-packages/keras/backend/tensorflow_backend.py:1033: The name tf.assign_add is deprecated. Please use tf.compat.v1.assign_add instead.\n",
            "\n",
            "WARNING:tensorflow:From /usr/local/lib/python3.6/dist-packages/keras/backend/tensorflow_backend.py:1020: The name tf.assign is deprecated. Please use tf.compat.v1.assign instead.\n",
            "\n",
            "WARNING:tensorflow:From /usr/local/lib/python3.6/dist-packages/keras/backend/tensorflow_backend.py:3005: The name tf.Session is deprecated. Please use tf.compat.v1.Session instead.\n",
            "\n",
            "Train on 50000 samples, validate on 10000 samples\n",
            "Epoch 1/25\n",
            "WARNING:tensorflow:From /usr/local/lib/python3.6/dist-packages/keras/backend/tensorflow_backend.py:190: The name tf.get_default_session is deprecated. Please use tf.compat.v1.get_default_session instead.\n",
            "\n",
            "WARNING:tensorflow:From /usr/local/lib/python3.6/dist-packages/keras/backend/tensorflow_backend.py:197: The name tf.ConfigProto is deprecated. Please use tf.compat.v1.ConfigProto instead.\n",
            "\n",
            "WARNING:tensorflow:From /usr/local/lib/python3.6/dist-packages/keras/backend/tensorflow_backend.py:207: The name tf.global_variables is deprecated. Please use tf.compat.v1.global_variables instead.\n",
            "\n",
            "WARNING:tensorflow:From /usr/local/lib/python3.6/dist-packages/keras/backend/tensorflow_backend.py:216: The name tf.is_variable_initialized is deprecated. Please use tf.compat.v1.is_variable_initialized instead.\n",
            "\n",
            "WARNING:tensorflow:From /usr/local/lib/python3.6/dist-packages/keras/backend/tensorflow_backend.py:223: The name tf.variables_initializer is deprecated. Please use tf.compat.v1.variables_initializer instead.\n",
            "\n",
            "50000/50000 [==============================] - 6s 119us/step - loss: 2.2392 - acc: 0.2604 - val_loss: 2.1195 - val_acc: 0.3166\n",
            "Epoch 2/25\n",
            "50000/50000 [==============================] - 5s 91us/step - loss: 1.7660 - acc: 0.3864 - val_loss: 1.8585 - val_acc: 0.3654\n",
            "Epoch 3/25\n",
            "50000/50000 [==============================] - 5s 91us/step - loss: 1.6363 - acc: 0.4284 - val_loss: 1.7115 - val_acc: 0.4013\n",
            "Epoch 4/25\n",
            "50000/50000 [==============================] - 5s 92us/step - loss: 1.5615 - acc: 0.4543 - val_loss: 1.6428 - val_acc: 0.4232\n",
            "Epoch 5/25\n",
            "50000/50000 [==============================] - 5s 90us/step - loss: 1.5049 - acc: 0.4733 - val_loss: 1.6092 - val_acc: 0.4337\n",
            "Epoch 6/25\n",
            "50000/50000 [==============================] - 5s 92us/step - loss: 1.4613 - acc: 0.4889 - val_loss: 1.5936 - val_acc: 0.4374\n",
            "Epoch 7/25\n",
            "50000/50000 [==============================] - 5s 91us/step - loss: 1.4232 - acc: 0.5003 - val_loss: 1.5701 - val_acc: 0.4450\n",
            "Epoch 8/25\n",
            "50000/50000 [==============================] - 5s 93us/step - loss: 1.3910 - acc: 0.5135 - val_loss: 1.5329 - val_acc: 0.4556\n",
            "Epoch 9/25\n",
            "50000/50000 [==============================] - 5s 92us/step - loss: 1.3620 - acc: 0.5245 - val_loss: 1.5217 - val_acc: 0.4612\n",
            "Epoch 10/25\n",
            "50000/50000 [==============================] - 5s 92us/step - loss: 1.3352 - acc: 0.5329 - val_loss: 1.5085 - val_acc: 0.4646\n",
            "Epoch 11/25\n",
            "50000/50000 [==============================] - 5s 94us/step - loss: 1.3091 - acc: 0.5450 - val_loss: 1.5077 - val_acc: 0.4700\n",
            "Epoch 12/25\n",
            "50000/50000 [==============================] - 5s 96us/step - loss: 1.2867 - acc: 0.5519 - val_loss: 1.4862 - val_acc: 0.4751\n",
            "Epoch 13/25\n",
            "50000/50000 [==============================] - 5s 95us/step - loss: 1.2638 - acc: 0.5599 - val_loss: 1.5013 - val_acc: 0.4737\n",
            "\n",
            "Epoch 00013: ReduceLROnPlateau reducing learning rate to 0.0002500000118743628.\n",
            "Epoch 14/25\n",
            "50000/50000 [==============================] - 5s 95us/step - loss: 1.2404 - acc: 0.5708 - val_loss: 1.4684 - val_acc: 0.4812\n",
            "Epoch 15/25\n",
            "50000/50000 [==============================] - 5s 92us/step - loss: 1.2242 - acc: 0.5749 - val_loss: 1.4578 - val_acc: 0.4847\n",
            "Epoch 16/25\n",
            "50000/50000 [==============================] - 5s 94us/step - loss: 1.2174 - acc: 0.5777 - val_loss: 1.4561 - val_acc: 0.4827\n",
            "Epoch 17/25\n",
            "50000/50000 [==============================] - 5s 94us/step - loss: 1.2113 - acc: 0.5806 - val_loss: 1.4538 - val_acc: 0.4853\n",
            "Epoch 18/25\n",
            "50000/50000 [==============================] - 5s 98us/step - loss: 1.2060 - acc: 0.5837 - val_loss: 1.4535 - val_acc: 0.4880\n",
            "Epoch 19/25\n",
            "50000/50000 [==============================] - 5s 96us/step - loss: 1.2014 - acc: 0.5845 - val_loss: 1.4529 - val_acc: 0.4853\n",
            "Epoch 20/25\n",
            "50000/50000 [==============================] - 5s 93us/step - loss: 1.1959 - acc: 0.5871 - val_loss: 1.4525 - val_acc: 0.4879\n",
            "Epoch 21/25\n",
            "50000/50000 [==============================] - 5s 94us/step - loss: 1.1892 - acc: 0.5893 - val_loss: 1.4495 - val_acc: 0.4876\n",
            "Epoch 22/25\n",
            "50000/50000 [==============================] - 5s 93us/step - loss: 1.1840 - acc: 0.5900 - val_loss: 1.4492 - val_acc: 0.4887\n",
            "Epoch 23/25\n",
            "50000/50000 [==============================] - 5s 95us/step - loss: 1.1783 - acc: 0.5926 - val_loss: 1.4479 - val_acc: 0.4860\n",
            "Epoch 24/25\n",
            "50000/50000 [==============================] - 5s 94us/step - loss: 1.1736 - acc: 0.5950 - val_loss: 1.4471 - val_acc: 0.4881\n",
            "Epoch 25/25\n",
            "50000/50000 [==============================] - 5s 93us/step - loss: 1.1684 - acc: 0.5971 - val_loss: 1.4465 - val_acc: 0.4888\n",
            "Numbers of exp: 1, reduce_factor: 0.25, reduce_patient: 2\n",
            "Model: \"model_2\"\n",
            "_________________________________________________________________\n",
            "Layer (type)                 Output Shape              Param #   \n",
            "=================================================================\n",
            "input_3 (InputLayer)         (None, 3072)              0         \n",
            "_________________________________________________________________\n",
            "hidden_layer1 (Dense)        (None, 256)               786688    \n",
            "_________________________________________________________________\n",
            "batch_normalization_4 (Batch (None, 256)               1024      \n",
            "_________________________________________________________________\n",
            "hidden_layer2 (Dense)        (None, 256)               65792     \n",
            "_________________________________________________________________\n",
            "batch_normalization_5 (Batch (None, 256)               1024      \n",
            "_________________________________________________________________\n",
            "hidden_layer3 (Dense)        (None, 256)               65792     \n",
            "_________________________________________________________________\n",
            "batch_normalization_6 (Batch (None, 256)               1024      \n",
            "_________________________________________________________________\n",
            "output (Dense)               (None, 10)                2570      \n",
            "=================================================================\n",
            "Total params: 923,914\n",
            "Trainable params: 922,378\n",
            "Non-trainable params: 1,536\n",
            "_________________________________________________________________\n",
            "Train on 50000 samples, validate on 10000 samples\n",
            "Epoch 1/25\n",
            "50000/50000 [==============================] - 6s 111us/step - loss: 2.5172 - acc: 0.1933 - val_loss: 2.3830 - val_acc: 0.2533\n",
            "Epoch 2/25\n",
            "50000/50000 [==============================] - 5s 102us/step - loss: 2.0364 - acc: 0.3061 - val_loss: 2.0430 - val_acc: 0.3047\n",
            "Epoch 3/25\n",
            "50000/50000 [==============================] - 5s 101us/step - loss: 1.8823 - acc: 0.3464 - val_loss: 1.9053 - val_acc: 0.3398\n",
            "Epoch 4/25\n",
            "50000/50000 [==============================] - 5s 98us/step - loss: 1.7978 - acc: 0.3722 - val_loss: 1.8432 - val_acc: 0.3630\n",
            "Epoch 5/25\n",
            "50000/50000 [==============================] - 5s 95us/step - loss: 1.7380 - acc: 0.3939 - val_loss: 1.7848 - val_acc: 0.3823\n",
            "Epoch 6/25\n",
            "50000/50000 [==============================] - 5s 97us/step - loss: 1.6921 - acc: 0.4076 - val_loss: 1.7452 - val_acc: 0.3892\n",
            "Epoch 7/25\n",
            "50000/50000 [==============================] - 5s 97us/step - loss: 1.6547 - acc: 0.4203 - val_loss: 1.7196 - val_acc: 0.4051\n",
            "Epoch 8/25\n",
            "50000/50000 [==============================] - 5s 100us/step - loss: 1.6244 - acc: 0.4314 - val_loss: 1.6997 - val_acc: 0.4075\n",
            "Epoch 9/25\n",
            "50000/50000 [==============================] - 5s 95us/step - loss: 1.5980 - acc: 0.4405 - val_loss: 1.6825 - val_acc: 0.4118\n",
            "Epoch 10/25\n",
            "50000/50000 [==============================] - 5s 97us/step - loss: 1.5734 - acc: 0.4481 - val_loss: 1.6641 - val_acc: 0.4168\n",
            "Epoch 11/25\n",
            "50000/50000 [==============================] - 5s 100us/step - loss: 1.5525 - acc: 0.4556 - val_loss: 1.6524 - val_acc: 0.4225\n",
            "Epoch 12/25\n",
            "50000/50000 [==============================] - 5s 100us/step - loss: 1.5331 - acc: 0.4636 - val_loss: 1.6346 - val_acc: 0.4264\n",
            "Epoch 13/25\n",
            "16384/50000 [========>.....................] - ETA: 3s - loss: 1.5222 - acc: 0.4666"
          ],
          "name": "stdout"
        }
      ]
    },
    {
      "cell_type": "code",
      "metadata": {
        "id": "_N-MQcV2SSWK",
        "colab_type": "code",
        "colab": {}
      },
      "source": [
        "import matplotlib.pyplot as plt\n",
        "import matplotlib.cm as mplcm\n",
        "import matplotlib.colors as colors\n",
        "%matplotlib inline\n",
        "NUM_COLORS = len(results.keys())\n",
        "\n",
        "cm = plt.get_cmap('gist_rainbow')\n",
        "cNorm  = colors.Normalize(vmin=0, vmax=NUM_COLORS-1)\n",
        "scalarMap = mplcm.ScalarMappable(norm=cNorm, cmap=cm)\n",
        "color_bar = [scalarMap.to_rgba(i) for i in range(NUM_COLORS)]\n",
        "\n",
        "plt.figure(figsize=(8,6))\n",
        "for i, cond in enumerate(results.keys()):\n",
        "    plt.plot(range(len(results[cond]['train-loss'])),results[cond]['train-loss'], '-', label=cond, color=color_bar[i])\n",
        "    plt.plot(range(len(results[cond]['valid-loss'])),results[cond]['valid-loss'], '--', label=cond, color=color_bar[i])\n",
        "plt.title(\"Loss\")\n",
        "plt.legend(loc='center left', bbox_to_anchor=(1, 0.5))\n",
        "plt.show()\n",
        "\n",
        "plt.figure(figsize=(8,6))\n",
        "for i, cond in enumerate(results.keys()):\n",
        "    plt.plot(range(len(results[cond]['train-acc'])),results[cond]['train-acc'], '-', label=cond, color=color_bar[i])\n",
        "    plt.plot(range(len(results[cond]['valid-acc'])),results[cond]['valid-acc'], '--', label=cond, color=color_bar[i])\n",
        "plt.title(\"Accuracy\")\n",
        "plt.legend(loc='center left', bbox_to_anchor=(1, 0.5))\n",
        "plt.show()"
      ],
      "execution_count": 0,
      "outputs": []
    }
  ]
}