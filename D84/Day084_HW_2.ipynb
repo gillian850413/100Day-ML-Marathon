{
  "nbformat": 4,
  "nbformat_minor": 0,
  "metadata": {
    "kernelspec": {
      "display_name": "Python 3",
      "language": "python",
      "name": "python3"
    },
    "language_info": {
      "codemirror_mode": {
        "name": "ipython",
        "version": 3
      },
      "file_extension": ".py",
      "mimetype": "text/x-python",
      "name": "python",
      "nbconvert_exporter": "python",
      "pygments_lexer": "ipython3",
      "version": "3.6.5"
    },
    "colab": {
      "name": "Day084_HW.ipynb",
      "provenance": [],
      "collapsed_sections": []
    }
  },
  "cells": [
    {
      "cell_type": "markdown",
      "metadata": {
        "id": "_j7WRlhK1-x5",
        "colab_type": "text"
      },
      "source": [
        "## Work\n",
        "### 請結合前面的知識與程式碼，比較不同的 regularization 的組合對訓練的結果與影響：如 dropout, regularizers, batch-normalization 等"
      ]
    },
    {
      "cell_type": "code",
      "metadata": {
        "id": "GARpsHsR1-x6",
        "colab_type": "code",
        "colab": {
          "base_uri": "https://localhost:8080/",
          "height": 80
        },
        "outputId": "0e479593-1795-47e6-ca7d-604d3c1396de"
      },
      "source": [
        "import os\n",
        "import keras\n",
        "import itertools\n",
        "# Disable GPU\n",
        "os.environ[\"CUDA_VISIBLE_DEVICES\"] = \"\""
      ],
      "execution_count": 1,
      "outputs": [
        {
          "output_type": "stream",
          "text": [
            "Using TensorFlow backend.\n"
          ],
          "name": "stderr"
        },
        {
          "output_type": "display_data",
          "data": {
            "text/html": [
              "<p style=\"color: red;\">\n",
              "The default version of TensorFlow in Colab will soon switch to TensorFlow 2.x.<br>\n",
              "We recommend you <a href=\"https://www.tensorflow.org/guide/migrate\" target=\"_blank\">upgrade</a> now \n",
              "or ensure your notebook will continue to use TensorFlow 1.x via the <code>%tensorflow_version 1.x</code> magic:\n",
              "<a href=\"https://colab.research.google.com/notebooks/tensorflow_version.ipynb\" target=\"_blank\">more info</a>.</p>\n"
            ],
            "text/plain": [
              "<IPython.core.display.HTML object>"
            ]
          },
          "metadata": {
            "tags": []
          }
        }
      ]
    },
    {
      "cell_type": "code",
      "metadata": {
        "id": "4u9u2s9p1-x9",
        "colab_type": "code",
        "colab": {
          "base_uri": "https://localhost:8080/",
          "height": 51
        },
        "outputId": "85dddb7e-bcb6-43c7-9212-d86fb7c36862"
      },
      "source": [
        "train, test = keras.datasets.cifar10.load_data()"
      ],
      "execution_count": 2,
      "outputs": [
        {
          "output_type": "stream",
          "text": [
            "Downloading data from https://www.cs.toronto.edu/~kriz/cifar-10-python.tar.gz\n",
            "170500096/170498071 [==============================] - 2s 0us/step\n"
          ],
          "name": "stdout"
        }
      ]
    },
    {
      "cell_type": "code",
      "metadata": {
        "id": "iawk6MLy1-x_",
        "colab_type": "code",
        "colab": {}
      },
      "source": [
        "## 資料前處理\n",
        "def preproc_x(x, flatten=True):\n",
        "    x = x / 255.\n",
        "    if flatten:\n",
        "        x = x.reshape((len(x), -1))\n",
        "    return x\n",
        "\n",
        "def preproc_y(y, num_classes=10):\n",
        "    if y.shape[-1] == 1:\n",
        "        y = keras.utils.to_categorical(y, num_classes)\n",
        "    return y    "
      ],
      "execution_count": 0,
      "outputs": []
    },
    {
      "cell_type": "code",
      "metadata": {
        "id": "S--B5kYL1-yB",
        "colab_type": "code",
        "colab": {}
      },
      "source": [
        "x_train, y_train = train\n",
        "x_test, y_test = test\n",
        "\n",
        "# Preproc the inputs\n",
        "x_train = preproc_x(x_train)\n",
        "x_test = preproc_x(x_test)\n",
        "\n",
        "# Preprc the outputs\n",
        "y_train = preproc_y(y_train)\n",
        "y_test = preproc_y(y_test)"
      ],
      "execution_count": 0,
      "outputs": []
    },
    {
      "cell_type": "code",
      "metadata": {
        "id": "L46ljUkT1-yD",
        "colab_type": "code",
        "colab": {}
      },
      "source": [
        "from keras.layers import BatchNormalization, Dropout, Activation\n",
        "from keras.regularizers import l1_l2\n",
        "def build_mlp(input_shape, output_units=10, num_neurons=[512, 256, 128], pre_activate=False):\n",
        "    input_layer = keras.layers.Input(input_shape)\n",
        "    \n",
        "    for i, n_units in enumerate(num_neurons):\n",
        "        if i == 0:\n",
        "            x = keras.layers.Dense(units=n_units, \n",
        "                                   name=\"hidden_layer\"+str(i+1),\n",
        "                                   kernel_regularizer=l1_l2(l1=0.0, l2=0.0))(input_layer)\n",
        "            if pre_activate:\n",
        "                x = Dropout(0.5)(x)\n",
        "                x = BatchNormalization()(x)\n",
        "                x = Activation(\"relu\")(x)\n",
        "            else:\n",
        "                x = Dropout(0.5)(x)\n",
        "                x = Activation(\"relu\")(x)\n",
        "                x = BatchNormalization()(x)\n",
        "        else:\n",
        "            x = keras.layers.Dense(units=n_units, \n",
        "                                   name=\"hidden_layer\"+str(i+1))(x)\n",
        "            if pre_activate:\n",
        "                x = Dropout(0.5)(x)\n",
        "                x = BatchNormalization()(x)\n",
        "                x = Activation(\"relu\")(x)\n",
        "            else:\n",
        "                x = Dropout(0.5)(x)\n",
        "                x = Activation(\"relu\")(x)\n",
        "                x = BatchNormalization()(x)\n",
        "                \n",
        "    \n",
        "    out = keras.layers.Dense(units=output_units, activation=\"softmax\", name=\"output\")(x)\n",
        "    \n",
        "    model = keras.models.Model(inputs=[input_layer], outputs=[out])\n",
        "    return model"
      ],
      "execution_count": 0,
      "outputs": []
    },
    {
      "cell_type": "code",
      "metadata": {
        "id": "gNMmhAlT1-yG",
        "colab_type": "code",
        "colab": {}
      },
      "source": [
        "LEARNING_RATE = 1e-3\n",
        "EPOCHS = 50\n",
        "BATCH_SIZE = [2, 16, 32, 128]\n",
        "PRE_ACTIVATE = [True, False]\n",
        "MOMENTUM = 0.95"
      ],
      "execution_count": 0,
      "outputs": []
    },
    {
      "cell_type": "code",
      "metadata": {
        "scrolled": true,
        "id": "lAViRnL31-yJ",
        "colab_type": "code",
        "colab": {}
      },
      "source": [
        "results = {}\n",
        "for i, (use_preact, bz) in enumerate(itertools.product(PRE_ACTIVATE, BATCH_SIZE)):\n",
        "    print(\"Numbers of exp: %i, use_preact: %s, batch_size: %i\" % (i, use_preact, bz))\n",
        "    model = build_mlp(input_shape=x_train.shape[1:], pre_activate=use_preact)\n",
        "    model.summary()\n",
        "    optimizer = keras.optimizers.Adam(lr=LEARNING_RATE)\n",
        "    model.compile(loss=\"categorical_crossentropy\", metrics=[\"accuracy\"], optimizer=optimizer)\n",
        "\n",
        "    model.fit(x_train, y_train, \n",
        "              epochs=EPOCHS, \n",
        "              batch_size=bz, \n",
        "              validation_data=(x_test, y_test), \n",
        "              verbose=0,\n",
        "              shuffle=True)\n",
        "    \n",
        "    # Collect results\n",
        "    exp_name_tag = (\"exp-%s\" % (i))\n",
        "    results[exp_name_tag] = {'train-loss': model.history.history[\"loss\"],\n",
        "                             'valid-loss': model.history.history[\"val_loss\"],\n",
        "                             'train-acc': model.history.history[\"acc\"],\n",
        "                             'valid-acc': model.history.history[\"val_acc\"]}"
      ],
      "execution_count": 0,
      "outputs": []
    },
    {
      "cell_type": "code",
      "metadata": {
        "id": "42O7LcA81-yL",
        "colab_type": "code",
        "colab": {}
      },
      "source": [
        "import matplotlib.pyplot as plt\n",
        "import matplotlib.cm as mplcm\n",
        "import matplotlib.colors as colors\n",
        "%matplotlib inline\n",
        "NUM_COLORS = 20\n",
        "\n",
        "cm = plt.get_cmap('gist_rainbow')\n",
        "cNorm  = colors.Normalize(vmin=0, vmax=NUM_COLORS-1)\n",
        "scalarMap = mplcm.ScalarMappable(norm=cNorm, cmap=cm)\n",
        "color_bar = [scalarMap.to_rgba(i) for i in range(NUM_COLORS)]\n",
        "\n",
        "plt.figure(figsize=(8,6))\n",
        "for i, cond in enumerate(results.keys()):\n",
        "    plt.plot(range(len(results[cond]['train-loss'])),results[cond]['train-loss'], '-', label=cond, color=color_bar[i])\n",
        "    plt.plot(range(len(results[cond]['valid-loss'])),results[cond]['valid-loss'], '--', label=cond, color=color_bar[i])\n",
        "plt.title(\"Loss\")\n",
        "plt.legend()\n",
        "plt.show()\n",
        "\n",
        "plt.figure(figsize=(8,6))\n",
        "for i, cond in enumerate(results.keys()):\n",
        "    plt.plot(range(len(results[cond]['train-acc'])),results[cond]['train-acc'], '-', label=cond, color=color_bar[i])\n",
        "    plt.plot(range(len(results[cond]['valid-acc'])),results[cond]['valid-acc'], '--', label=cond, color=color_bar[i])\n",
        "plt.title(\"Accuracy\")\n",
        "plt.legend()\n",
        "plt.show()"
      ],
      "execution_count": 0,
      "outputs": []
    }
  ]
}