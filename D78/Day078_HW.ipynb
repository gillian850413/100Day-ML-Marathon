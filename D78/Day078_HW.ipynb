{
  "nbformat": 4,
  "nbformat_minor": 0,
  "metadata": {
    "kernelspec": {
      "name": "python3",
      "display_name": "Python 3"
    },
    "language_info": {
      "codemirror_mode": {
        "name": "ipython",
        "version": 3
      },
      "file_extension": ".py",
      "mimetype": "text/x-python",
      "name": "python",
      "nbconvert_exporter": "python",
      "pygments_lexer": "ipython3",
      "version": "3.7.2"
    },
    "toc": {
      "base_numbering": 1,
      "nav_menu": {},
      "number_sections": true,
      "sideBar": true,
      "skip_h1_title": false,
      "title_cell": "Table of Contents",
      "title_sidebar": "Contents",
      "toc_cell": true,
      "toc_position": {},
      "toc_section_display": true,
      "toc_window_display": false
    },
    "colab": {
      "name": "Day078_HW.ipynb",
      "provenance": [],
      "collapsed_sections": []
    },
    "accelerator": "GPU"
  },
  "cells": [
    {
      "cell_type": "markdown",
      "metadata": {
        "toc": true,
        "id": "m5J4HjKys5SY",
        "colab_type": "text"
      },
      "source": [
        "<h1>Table of Contents<span class=\"tocSkip\"></span></h1>\n",
        "<div class=\"toc\"><ul class=\"toc-item\"><li><span><a href=\"#Work\" data-toc-modified-id=\"Work-1\"><span class=\"toc-item-num\">1&nbsp;&nbsp;</span>Work</a></span></li></ul></div>"
      ]
    },
    {
      "cell_type": "markdown",
      "metadata": {
        "id": "9IhQl2S6s5Sb",
        "colab_type": "text"
      },
      "source": [
        "## Work\n",
        "1. 請嘗試將 preproc_x 替換成以每筆資料的 min/max 進行標準化至 -1 ~ 1 間，再進行訓練\n",
        "2. 請嘗試將 mlp 疊更深 (e.g 5~10 層)，進行訓練後觀察 learning curve 的走勢\n",
        "3. (optional) 請改用 GPU 進行訓練 (如果你有 GPU 的話)，比較使用 CPU 與 GPU 的訓練速度"
      ]
    },
    {
      "cell_type": "code",
      "metadata": {
        "id": "CKuRcgW0s5Sc",
        "colab_type": "code",
        "colab": {}
      },
      "source": [
        "## \n",
        "\"\"\"\n",
        "Your code here (optional)\n",
        "確認硬體資源\n",
        "\"\"\"\n"
      ],
      "execution_count": 0,
      "outputs": []
    },
    {
      "cell_type": "code",
      "metadata": {
        "id": "-Xjwm_eys5Sg",
        "colab_type": "code",
        "colab": {
          "base_uri": "https://localhost:8080/",
          "height": 80
        },
        "outputId": "7d31154f-896d-48b4-fa21-2159935c1039"
      },
      "source": [
        "import os\n",
        "import keras\n",
        "\n",
        "# 請嘗試設定 GPU：os.environ\n",
        "#os.environ[\"CUDA_VISIBLE_DEVICES\"] = \"\""
      ],
      "execution_count": 1,
      "outputs": [
        {
          "output_type": "stream",
          "text": [
            "Using TensorFlow backend.\n"
          ],
          "name": "stderr"
        },
        {
          "output_type": "display_data",
          "data": {
            "text/html": [
              "<p style=\"color: red;\">\n",
              "The default version of TensorFlow in Colab will soon switch to TensorFlow 2.x.<br>\n",
              "We recommend you <a href=\"https://www.tensorflow.org/guide/migrate\" target=\"_blank\">upgrade</a> now \n",
              "or ensure your notebook will continue to use TensorFlow 1.x via the <code>%tensorflow_version 1.x</code> magic:\n",
              "<a href=\"https://colab.research.google.com/notebooks/tensorflow_version.ipynb\" target=\"_blank\">more info</a>.</p>\n"
            ],
            "text/plain": [
              "<IPython.core.display.HTML object>"
            ]
          },
          "metadata": {
            "tags": []
          }
        }
      ]
    },
    {
      "cell_type": "code",
      "metadata": {
        "id": "AvdrKrYVs5Sj",
        "colab_type": "code",
        "colab": {
          "base_uri": "https://localhost:8080/",
          "height": 51
        },
        "outputId": "8f7c9247-780c-4984-a856-6f79fb2d4dc5"
      },
      "source": [
        "train, test = keras.datasets.cifar10.load_data()"
      ],
      "execution_count": 2,
      "outputs": [
        {
          "output_type": "stream",
          "text": [
            "Downloading data from https://www.cs.toronto.edu/~kriz/cifar-10-python.tar.gz\n",
            "170500096/170498071 [==============================] - 6s 0us/step\n"
          ],
          "name": "stdout"
        }
      ]
    },
    {
      "cell_type": "code",
      "metadata": {
        "id": "kime8aaJs5Sm",
        "colab_type": "code",
        "colab": {}
      },
      "source": [
        "## 資料前處理\n",
        "def preproc_x(x, flatten=True):\n",
        "    x = x / 255. #normalization\n",
        "    if flatten:\n",
        "        x = x.reshape((len(x), -1))\n",
        "    return x\n",
        "\n",
        "def preproc_y(y, num_classes=10):\n",
        "    if y.shape[-1] == 1:\n",
        "        y = keras.utils.to_categorical(y, num_classes)\n",
        "    return y   "
      ],
      "execution_count": 0,
      "outputs": []
    },
    {
      "cell_type": "code",
      "metadata": {
        "id": "87AY6A2as5Sp",
        "colab_type": "code",
        "colab": {}
      },
      "source": [
        "x_train, y_train = train\n",
        "x_test, y_test = test\n",
        "\n",
        "# Preproc the inputs\n",
        "x_train = preproc_x(x_train)\n",
        "x_test = preproc_x(x_test)\n",
        "\n",
        "# Preprc the outputs\n",
        "y_train = preproc_y(y_train)\n",
        "y_test = preproc_y(y_test)"
      ],
      "execution_count": 0,
      "outputs": []
    },
    {
      "cell_type": "code",
      "metadata": {
        "id": "eMG6eMWts5Sr",
        "colab_type": "code",
        "colab": {
          "base_uri": "https://localhost:8080/",
          "height": 391
        },
        "outputId": "99af3665-f431-4d4f-ff13-d399298fbdd4"
      },
      "source": [
        "def build_mlp(input_shape, output_units=10, num_neurons=[512, 256, 128, 128, 64]):\n",
        "    input_layer = keras.layers.Input(input_shape)\n",
        "    \n",
        "    for i, n_units in enumerate(num_neurons):\n",
        "        if i == 0:\n",
        "            x = keras.layers.Dense(units=n_units, activation=\"relu\", name=\"hidden_layer\"+str(i+1))(input_layer)\n",
        "        else:\n",
        "            x = keras.layers.Dense(units=n_units, activation=\"relu\", name=\"hidden_layer\"+str(i+1))(x)\n",
        "    \n",
        "    out = keras.layers.Dense(units=output_units, activation=\"softmax\", name=\"output\")(x)\n",
        "    \n",
        "    model = keras.models.Model(inputs=[input_layer], outputs=[out])\n",
        "    return model\n",
        "model = build_mlp(input_shape=x_train.shape[1:])\n",
        "model.summary()"
      ],
      "execution_count": 10,
      "outputs": [
        {
          "output_type": "stream",
          "text": [
            "Model: \"model_3\"\n",
            "_________________________________________________________________\n",
            "Layer (type)                 Output Shape              Param #   \n",
            "=================================================================\n",
            "input_3 (InputLayer)         (None, 3072)              0         \n",
            "_________________________________________________________________\n",
            "hidden_layer1 (Dense)        (None, 512)               1573376   \n",
            "_________________________________________________________________\n",
            "hidden_layer2 (Dense)        (None, 256)               131328    \n",
            "_________________________________________________________________\n",
            "hidden_layer3 (Dense)        (None, 128)               32896     \n",
            "_________________________________________________________________\n",
            "hidden_layer4 (Dense)        (None, 128)               16512     \n",
            "_________________________________________________________________\n",
            "hidden_layer5 (Dense)        (None, 64)                8256      \n",
            "_________________________________________________________________\n",
            "output (Dense)               (None, 10)                650       \n",
            "=================================================================\n",
            "Total params: 1,763,018\n",
            "Trainable params: 1,763,018\n",
            "Non-trainable params: 0\n",
            "_________________________________________________________________\n"
          ],
          "name": "stdout"
        }
      ]
    },
    {
      "cell_type": "code",
      "metadata": {
        "id": "qzKdICLBs5St",
        "colab_type": "code",
        "colab": {}
      },
      "source": [
        "## 超參數設定\n",
        "LEARNING_RATE = 0.001\n",
        "EPOCHS = 100\n",
        "BATCH_SIZE = 256"
      ],
      "execution_count": 0,
      "outputs": []
    },
    {
      "cell_type": "code",
      "metadata": {
        "id": "mI9yFUKPs5Sv",
        "colab_type": "code",
        "colab": {
          "base_uri": "https://localhost:8080/",
          "height": 105
        },
        "outputId": "6de9d521-4d02-4691-ee2e-d2a3ac6b2d3a"
      },
      "source": [
        "optimizer = keras.optimizers.Adam(lr=LEARNING_RATE)\n",
        "model.compile(loss=\"categorical_crossentropy\", metrics=[\"accuracy\"], optimizer=optimizer)"
      ],
      "execution_count": 12,
      "outputs": [
        {
          "output_type": "stream",
          "text": [
            "WARNING:tensorflow:From /usr/local/lib/python3.6/dist-packages/keras/optimizers.py:793: The name tf.train.Optimizer is deprecated. Please use tf.compat.v1.train.Optimizer instead.\n",
            "\n",
            "WARNING:tensorflow:From /usr/local/lib/python3.6/dist-packages/keras/backend/tensorflow_backend.py:3576: The name tf.log is deprecated. Please use tf.math.log instead.\n",
            "\n"
          ],
          "name": "stdout"
        }
      ]
    },
    {
      "cell_type": "code",
      "metadata": {
        "id": "gxNCvwb9s5Sw",
        "colab_type": "code",
        "colab": {
          "base_uri": "https://localhost:8080/",
          "height": 1000
        },
        "outputId": "aea6c7df-7ae3-4548-e61b-e0dfd7b5f16f"
      },
      "source": [
        "model.fit(x_train, y_train, \n",
        "          epochs=EPOCHS, \n",
        "          batch_size=BATCH_SIZE, \n",
        "          validation_data=(x_test, y_test), \n",
        "          shuffle=True)"
      ],
      "execution_count": 13,
      "outputs": [
        {
          "output_type": "stream",
          "text": [
            "WARNING:tensorflow:From /usr/local/lib/python3.6/dist-packages/tensorflow_core/python/ops/math_grad.py:1424: where (from tensorflow.python.ops.array_ops) is deprecated and will be removed in a future version.\n",
            "Instructions for updating:\n",
            "Use tf.where in 2.0, which has the same broadcast rule as np.where\n",
            "WARNING:tensorflow:From /usr/local/lib/python3.6/dist-packages/keras/backend/tensorflow_backend.py:1033: The name tf.assign_add is deprecated. Please use tf.compat.v1.assign_add instead.\n",
            "\n",
            "WARNING:tensorflow:From /usr/local/lib/python3.6/dist-packages/keras/backend/tensorflow_backend.py:1020: The name tf.assign is deprecated. Please use tf.compat.v1.assign instead.\n",
            "\n",
            "WARNING:tensorflow:From /usr/local/lib/python3.6/dist-packages/keras/backend/tensorflow_backend.py:3005: The name tf.Session is deprecated. Please use tf.compat.v1.Session instead.\n",
            "\n",
            "Train on 50000 samples, validate on 10000 samples\n",
            "Epoch 1/100\n",
            "WARNING:tensorflow:From /usr/local/lib/python3.6/dist-packages/keras/backend/tensorflow_backend.py:190: The name tf.get_default_session is deprecated. Please use tf.compat.v1.get_default_session instead.\n",
            "\n",
            "WARNING:tensorflow:From /usr/local/lib/python3.6/dist-packages/keras/backend/tensorflow_backend.py:197: The name tf.ConfigProto is deprecated. Please use tf.compat.v1.ConfigProto instead.\n",
            "\n",
            "WARNING:tensorflow:From /usr/local/lib/python3.6/dist-packages/keras/backend/tensorflow_backend.py:207: The name tf.global_variables is deprecated. Please use tf.compat.v1.global_variables instead.\n",
            "\n",
            "WARNING:tensorflow:From /usr/local/lib/python3.6/dist-packages/keras/backend/tensorflow_backend.py:216: The name tf.is_variable_initialized is deprecated. Please use tf.compat.v1.is_variable_initialized instead.\n",
            "\n",
            "WARNING:tensorflow:From /usr/local/lib/python3.6/dist-packages/keras/backend/tensorflow_backend.py:223: The name tf.variables_initializer is deprecated. Please use tf.compat.v1.variables_initializer instead.\n",
            "\n",
            "50000/50000 [==============================] - 7s 138us/step - loss: 1.9602 - acc: 0.2814 - val_loss: 1.7809 - val_acc: 0.3568\n",
            "Epoch 2/100\n",
            "50000/50000 [==============================] - 3s 50us/step - loss: 1.7253 - acc: 0.3772 - val_loss: 1.6875 - val_acc: 0.3929\n",
            "Epoch 3/100\n",
            "50000/50000 [==============================] - 2s 50us/step - loss: 1.6386 - acc: 0.4119 - val_loss: 1.6307 - val_acc: 0.4092\n",
            "Epoch 4/100\n",
            "50000/50000 [==============================] - 3s 52us/step - loss: 1.5722 - acc: 0.4345 - val_loss: 1.5398 - val_acc: 0.4475\n",
            "Epoch 5/100\n",
            "50000/50000 [==============================] - 3s 66us/step - loss: 1.5155 - acc: 0.4579 - val_loss: 1.5197 - val_acc: 0.4534\n",
            "Epoch 6/100\n",
            "50000/50000 [==============================] - 3s 65us/step - loss: 1.4832 - acc: 0.4688 - val_loss: 1.5098 - val_acc: 0.4574\n",
            "Epoch 7/100\n",
            "50000/50000 [==============================] - 3s 53us/step - loss: 1.4466 - acc: 0.4821 - val_loss: 1.4654 - val_acc: 0.4760\n",
            "Epoch 8/100\n",
            "50000/50000 [==============================] - 3s 51us/step - loss: 1.4129 - acc: 0.4946 - val_loss: 1.4505 - val_acc: 0.4740\n",
            "Epoch 9/100\n",
            "50000/50000 [==============================] - 3s 51us/step - loss: 1.3849 - acc: 0.5057 - val_loss: 1.4192 - val_acc: 0.4938\n",
            "Epoch 10/100\n",
            "50000/50000 [==============================] - 3s 60us/step - loss: 1.3580 - acc: 0.5124 - val_loss: 1.4193 - val_acc: 0.4936\n",
            "Epoch 11/100\n",
            "50000/50000 [==============================] - 3s 52us/step - loss: 1.3358 - acc: 0.5218 - val_loss: 1.4008 - val_acc: 0.5066\n",
            "Epoch 12/100\n",
            "50000/50000 [==============================] - 3s 52us/step - loss: 1.3079 - acc: 0.5317 - val_loss: 1.4787 - val_acc: 0.4661\n",
            "Epoch 13/100\n",
            "50000/50000 [==============================] - 3s 52us/step - loss: 1.2862 - acc: 0.5384 - val_loss: 1.4141 - val_acc: 0.5006\n",
            "Epoch 14/100\n",
            "50000/50000 [==============================] - 3s 53us/step - loss: 1.2697 - acc: 0.5454 - val_loss: 1.3821 - val_acc: 0.5159\n",
            "Epoch 15/100\n",
            "50000/50000 [==============================] - 3s 55us/step - loss: 1.2468 - acc: 0.5547 - val_loss: 1.4355 - val_acc: 0.5009\n",
            "Epoch 16/100\n",
            "50000/50000 [==============================] - 3s 57us/step - loss: 1.2235 - acc: 0.5629 - val_loss: 1.3970 - val_acc: 0.5101\n",
            "Epoch 17/100\n",
            "50000/50000 [==============================] - 3s 55us/step - loss: 1.2051 - acc: 0.5686 - val_loss: 1.4313 - val_acc: 0.4926\n",
            "Epoch 18/100\n",
            "50000/50000 [==============================] - 3s 53us/step - loss: 1.1820 - acc: 0.5748 - val_loss: 1.4010 - val_acc: 0.5084\n",
            "Epoch 19/100\n",
            "50000/50000 [==============================] - 3s 53us/step - loss: 1.1579 - acc: 0.5853 - val_loss: 1.3787 - val_acc: 0.5180\n",
            "Epoch 20/100\n",
            "50000/50000 [==============================] - 3s 54us/step - loss: 1.1305 - acc: 0.5937 - val_loss: 1.4053 - val_acc: 0.5112\n",
            "Epoch 21/100\n",
            "50000/50000 [==============================] - 3s 53us/step - loss: 1.1223 - acc: 0.5957 - val_loss: 1.3787 - val_acc: 0.5201\n",
            "Epoch 22/100\n",
            "50000/50000 [==============================] - 3s 53us/step - loss: 1.0994 - acc: 0.6046 - val_loss: 1.3651 - val_acc: 0.5298\n",
            "Epoch 23/100\n",
            "50000/50000 [==============================] - 3s 52us/step - loss: 1.0759 - acc: 0.6135 - val_loss: 1.3866 - val_acc: 0.5218\n",
            "Epoch 24/100\n",
            "50000/50000 [==============================] - 3s 51us/step - loss: 1.0627 - acc: 0.6197 - val_loss: 1.4106 - val_acc: 0.5121\n",
            "Epoch 25/100\n",
            "50000/50000 [==============================] - 3s 52us/step - loss: 1.0428 - acc: 0.6260 - val_loss: 1.3955 - val_acc: 0.5234\n",
            "Epoch 26/100\n",
            "50000/50000 [==============================] - 3s 52us/step - loss: 1.0270 - acc: 0.6297 - val_loss: 1.4172 - val_acc: 0.5234\n",
            "Epoch 27/100\n",
            "50000/50000 [==============================] - 3s 52us/step - loss: 1.0025 - acc: 0.6406 - val_loss: 1.4141 - val_acc: 0.5244\n",
            "Epoch 28/100\n",
            "50000/50000 [==============================] - 3s 50us/step - loss: 0.9860 - acc: 0.6457 - val_loss: 1.4850 - val_acc: 0.5032\n",
            "Epoch 29/100\n",
            "50000/50000 [==============================] - 3s 51us/step - loss: 0.9743 - acc: 0.6494 - val_loss: 1.4240 - val_acc: 0.5180\n",
            "Epoch 30/100\n",
            "50000/50000 [==============================] - 3s 52us/step - loss: 0.9409 - acc: 0.6603 - val_loss: 1.4639 - val_acc: 0.5213\n",
            "Epoch 31/100\n",
            "50000/50000 [==============================] - 3s 52us/step - loss: 0.9335 - acc: 0.6637 - val_loss: 1.4846 - val_acc: 0.5141\n",
            "Epoch 32/100\n",
            "50000/50000 [==============================] - 3s 52us/step - loss: 0.9163 - acc: 0.6716 - val_loss: 1.4643 - val_acc: 0.5209\n",
            "Epoch 33/100\n",
            "50000/50000 [==============================] - 3s 51us/step - loss: 0.8999 - acc: 0.6763 - val_loss: 1.5004 - val_acc: 0.5179\n",
            "Epoch 34/100\n",
            "50000/50000 [==============================] - 3s 53us/step - loss: 0.8748 - acc: 0.6863 - val_loss: 1.5355 - val_acc: 0.5175\n",
            "Epoch 35/100\n",
            "50000/50000 [==============================] - 3s 52us/step - loss: 0.8622 - acc: 0.6903 - val_loss: 1.5178 - val_acc: 0.5213\n",
            "Epoch 36/100\n",
            "50000/50000 [==============================] - 3s 53us/step - loss: 0.8418 - acc: 0.6977 - val_loss: 1.5566 - val_acc: 0.5204\n",
            "Epoch 37/100\n",
            "50000/50000 [==============================] - 3s 53us/step - loss: 0.8229 - acc: 0.7059 - val_loss: 1.5451 - val_acc: 0.5159\n",
            "Epoch 38/100\n",
            "50000/50000 [==============================] - 3s 53us/step - loss: 0.8066 - acc: 0.7092 - val_loss: 1.6708 - val_acc: 0.5023\n",
            "Epoch 39/100\n",
            "50000/50000 [==============================] - 3s 52us/step - loss: 0.7960 - acc: 0.7141 - val_loss: 1.6553 - val_acc: 0.5141\n",
            "Epoch 40/100\n",
            "50000/50000 [==============================] - 3s 55us/step - loss: 0.7784 - acc: 0.7190 - val_loss: 1.6209 - val_acc: 0.5117\n",
            "Epoch 41/100\n",
            "50000/50000 [==============================] - 3s 52us/step - loss: 0.7656 - acc: 0.7235 - val_loss: 1.6412 - val_acc: 0.5158\n",
            "Epoch 42/100\n",
            "50000/50000 [==============================] - 3s 52us/step - loss: 0.7481 - acc: 0.7314 - val_loss: 1.7147 - val_acc: 0.5171\n",
            "Epoch 43/100\n",
            "50000/50000 [==============================] - 3s 51us/step - loss: 0.7452 - acc: 0.7321 - val_loss: 1.6741 - val_acc: 0.5082\n",
            "Epoch 44/100\n",
            "50000/50000 [==============================] - 3s 52us/step - loss: 0.7228 - acc: 0.7392 - val_loss: 1.7472 - val_acc: 0.4993\n",
            "Epoch 45/100\n",
            "50000/50000 [==============================] - 3s 54us/step - loss: 0.7144 - acc: 0.7436 - val_loss: 1.7149 - val_acc: 0.5119\n",
            "Epoch 46/100\n",
            "50000/50000 [==============================] - 3s 53us/step - loss: 0.6940 - acc: 0.7511 - val_loss: 1.7392 - val_acc: 0.5160\n",
            "Epoch 47/100\n",
            "50000/50000 [==============================] - 3s 53us/step - loss: 0.6753 - acc: 0.7559 - val_loss: 1.7318 - val_acc: 0.5187\n",
            "Epoch 48/100\n",
            "50000/50000 [==============================] - 3s 52us/step - loss: 0.6538 - acc: 0.7633 - val_loss: 1.7929 - val_acc: 0.5079\n",
            "Epoch 49/100\n",
            "50000/50000 [==============================] - 3s 55us/step - loss: 0.6543 - acc: 0.7642 - val_loss: 1.8591 - val_acc: 0.5005\n",
            "Epoch 50/100\n",
            "50000/50000 [==============================] - 3s 54us/step - loss: 0.6435 - acc: 0.7665 - val_loss: 1.8800 - val_acc: 0.5158\n",
            "Epoch 51/100\n",
            "50000/50000 [==============================] - 3s 53us/step - loss: 0.6234 - acc: 0.7755 - val_loss: 1.9069 - val_acc: 0.5114\n",
            "Epoch 52/100\n",
            "50000/50000 [==============================] - 3s 55us/step - loss: 0.6133 - acc: 0.7797 - val_loss: 2.0070 - val_acc: 0.5023\n",
            "Epoch 53/100\n",
            "50000/50000 [==============================] - 3s 56us/step - loss: 0.6118 - acc: 0.7795 - val_loss: 1.9792 - val_acc: 0.5097\n",
            "Epoch 54/100\n",
            "50000/50000 [==============================] - 3s 57us/step - loss: 0.5882 - acc: 0.7870 - val_loss: 1.9805 - val_acc: 0.5111\n",
            "Epoch 55/100\n",
            "50000/50000 [==============================] - 3s 55us/step - loss: 0.5827 - acc: 0.7906 - val_loss: 2.0136 - val_acc: 0.5038\n",
            "Epoch 56/100\n",
            "50000/50000 [==============================] - 3s 52us/step - loss: 0.5881 - acc: 0.7864 - val_loss: 2.0180 - val_acc: 0.5046\n",
            "Epoch 57/100\n",
            "50000/50000 [==============================] - 3s 51us/step - loss: 0.5558 - acc: 0.7995 - val_loss: 2.1121 - val_acc: 0.5075\n",
            "Epoch 58/100\n",
            "50000/50000 [==============================] - 3s 52us/step - loss: 0.5492 - acc: 0.8008 - val_loss: 2.0750 - val_acc: 0.5127\n",
            "Epoch 59/100\n",
            "50000/50000 [==============================] - 3s 53us/step - loss: 0.5528 - acc: 0.8004 - val_loss: 2.1860 - val_acc: 0.4992\n",
            "Epoch 60/100\n",
            "50000/50000 [==============================] - 3s 54us/step - loss: 0.5495 - acc: 0.8011 - val_loss: 2.1120 - val_acc: 0.5125\n",
            "Epoch 61/100\n",
            "50000/50000 [==============================] - 3s 53us/step - loss: 0.5213 - acc: 0.8121 - val_loss: 2.1958 - val_acc: 0.5106\n",
            "Epoch 62/100\n",
            "50000/50000 [==============================] - 3s 51us/step - loss: 0.5091 - acc: 0.8170 - val_loss: 2.2004 - val_acc: 0.5077\n",
            "Epoch 63/100\n",
            "50000/50000 [==============================] - 3s 53us/step - loss: 0.5374 - acc: 0.8070 - val_loss: 2.1599 - val_acc: 0.5095\n",
            "Epoch 64/100\n",
            "50000/50000 [==============================] - 3s 53us/step - loss: 0.4906 - acc: 0.8225 - val_loss: 2.2644 - val_acc: 0.4944\n",
            "Epoch 65/100\n",
            "50000/50000 [==============================] - 3s 52us/step - loss: 0.4886 - acc: 0.8247 - val_loss: 2.3233 - val_acc: 0.5080\n",
            "Epoch 66/100\n",
            "50000/50000 [==============================] - 3s 53us/step - loss: 0.4816 - acc: 0.8263 - val_loss: 2.2870 - val_acc: 0.4960\n",
            "Epoch 67/100\n",
            "50000/50000 [==============================] - 3s 51us/step - loss: 0.4578 - acc: 0.8343 - val_loss: 2.3410 - val_acc: 0.5035\n",
            "Epoch 68/100\n",
            "50000/50000 [==============================] - 3s 52us/step - loss: 0.4794 - acc: 0.8267 - val_loss: 2.3575 - val_acc: 0.5085\n",
            "Epoch 69/100\n",
            "50000/50000 [==============================] - 3s 51us/step - loss: 0.4589 - acc: 0.8333 - val_loss: 2.3097 - val_acc: 0.5059\n",
            "Epoch 70/100\n",
            "50000/50000 [==============================] - 3s 50us/step - loss: 0.4678 - acc: 0.8291 - val_loss: 2.4200 - val_acc: 0.5018\n",
            "Epoch 71/100\n",
            "50000/50000 [==============================] - 3s 51us/step - loss: 0.4467 - acc: 0.8404 - val_loss: 2.4324 - val_acc: 0.5073\n",
            "Epoch 72/100\n",
            "50000/50000 [==============================] - 3s 52us/step - loss: 0.4434 - acc: 0.8391 - val_loss: 2.4606 - val_acc: 0.4961\n",
            "Epoch 73/100\n",
            "50000/50000 [==============================] - 3s 53us/step - loss: 0.4383 - acc: 0.8424 - val_loss: 2.5437 - val_acc: 0.5066\n",
            "Epoch 74/100\n",
            "50000/50000 [==============================] - 3s 52us/step - loss: 0.4236 - acc: 0.8480 - val_loss: 2.4980 - val_acc: 0.5093\n",
            "Epoch 75/100\n",
            "50000/50000 [==============================] - 3s 53us/step - loss: 0.4179 - acc: 0.8495 - val_loss: 2.5024 - val_acc: 0.4984\n",
            "Epoch 76/100\n",
            "50000/50000 [==============================] - 3s 54us/step - loss: 0.4184 - acc: 0.8493 - val_loss: 2.5315 - val_acc: 0.4989\n",
            "Epoch 77/100\n",
            "50000/50000 [==============================] - 3s 54us/step - loss: 0.4288 - acc: 0.8456 - val_loss: 2.6492 - val_acc: 0.4998\n",
            "Epoch 78/100\n",
            "50000/50000 [==============================] - 3s 53us/step - loss: 0.4145 - acc: 0.8495 - val_loss: 2.4771 - val_acc: 0.5033\n",
            "Epoch 79/100\n",
            "50000/50000 [==============================] - 3s 52us/step - loss: 0.3959 - acc: 0.8574 - val_loss: 2.6058 - val_acc: 0.4988\n",
            "Epoch 80/100\n",
            "50000/50000 [==============================] - 3s 52us/step - loss: 0.3694 - acc: 0.8667 - val_loss: 2.7135 - val_acc: 0.5042\n",
            "Epoch 81/100\n",
            "50000/50000 [==============================] - 3s 53us/step - loss: 0.3992 - acc: 0.8555 - val_loss: 2.7221 - val_acc: 0.4950\n",
            "Epoch 82/100\n",
            "50000/50000 [==============================] - 3s 55us/step - loss: 0.3885 - acc: 0.8600 - val_loss: 2.6894 - val_acc: 0.4970\n",
            "Epoch 83/100\n",
            "50000/50000 [==============================] - 3s 54us/step - loss: 0.4002 - acc: 0.8550 - val_loss: 2.8078 - val_acc: 0.4901\n",
            "Epoch 84/100\n",
            "50000/50000 [==============================] - 3s 54us/step - loss: 0.3785 - acc: 0.8639 - val_loss: 2.7696 - val_acc: 0.5045\n",
            "Epoch 85/100\n",
            "50000/50000 [==============================] - 3s 53us/step - loss: 0.3589 - acc: 0.8713 - val_loss: 2.6791 - val_acc: 0.5076\n",
            "Epoch 86/100\n",
            "50000/50000 [==============================] - 3s 54us/step - loss: 0.3467 - acc: 0.8740 - val_loss: 2.9085 - val_acc: 0.5039\n",
            "Epoch 87/100\n",
            "50000/50000 [==============================] - 3s 54us/step - loss: 0.3461 - acc: 0.8758 - val_loss: 2.8953 - val_acc: 0.4965\n",
            "Epoch 88/100\n",
            "50000/50000 [==============================] - 3s 52us/step - loss: 0.3680 - acc: 0.8667 - val_loss: 2.8677 - val_acc: 0.5026\n",
            "Epoch 89/100\n",
            "50000/50000 [==============================] - 3s 53us/step - loss: 0.3672 - acc: 0.8693 - val_loss: 2.9314 - val_acc: 0.4901\n",
            "Epoch 90/100\n",
            "50000/50000 [==============================] - 3s 51us/step - loss: 0.3432 - acc: 0.8779 - val_loss: 2.8036 - val_acc: 0.5022\n",
            "Epoch 91/100\n",
            "50000/50000 [==============================] - 3s 51us/step - loss: 0.3537 - acc: 0.8706 - val_loss: 2.8114 - val_acc: 0.4988\n",
            "Epoch 92/100\n",
            "50000/50000 [==============================] - 3s 51us/step - loss: 0.3258 - acc: 0.8818 - val_loss: 2.8965 - val_acc: 0.5011\n",
            "Epoch 93/100\n",
            "50000/50000 [==============================] - 3s 52us/step - loss: 0.3393 - acc: 0.8793 - val_loss: 2.9463 - val_acc: 0.4906\n",
            "Epoch 94/100\n",
            "50000/50000 [==============================] - 3s 52us/step - loss: 0.3523 - acc: 0.8738 - val_loss: 2.9797 - val_acc: 0.5009\n",
            "Epoch 95/100\n",
            "50000/50000 [==============================] - 3s 54us/step - loss: 0.3240 - acc: 0.8828 - val_loss: 3.0651 - val_acc: 0.4979\n",
            "Epoch 96/100\n",
            "50000/50000 [==============================] - 3s 52us/step - loss: 0.3224 - acc: 0.8850 - val_loss: 2.9285 - val_acc: 0.4951\n",
            "Epoch 97/100\n",
            "50000/50000 [==============================] - 3s 55us/step - loss: 0.3383 - acc: 0.8783 - val_loss: 2.9491 - val_acc: 0.4982\n",
            "Epoch 98/100\n",
            "50000/50000 [==============================] - 3s 55us/step - loss: 0.3304 - acc: 0.8798 - val_loss: 3.0489 - val_acc: 0.4887\n",
            "Epoch 99/100\n",
            "50000/50000 [==============================] - 3s 59us/step - loss: 0.2882 - acc: 0.8972 - val_loss: 2.9949 - val_acc: 0.4939\n",
            "Epoch 100/100\n",
            "50000/50000 [==============================] - 3s 58us/step - loss: 0.2949 - acc: 0.8938 - val_loss: 3.0688 - val_acc: 0.5011\n"
          ],
          "name": "stdout"
        },
        {
          "output_type": "execute_result",
          "data": {
            "text/plain": [
              "<keras.callbacks.History at 0x7ff3d2d2ca20>"
            ]
          },
          "metadata": {
            "tags": []
          },
          "execution_count": 13
        }
      ]
    },
    {
      "cell_type": "code",
      "metadata": {
        "id": "9MLkpbA1s5Sy",
        "colab_type": "code",
        "colab": {
          "base_uri": "https://localhost:8080/",
          "height": 545
        },
        "outputId": "71642f2f-cc8e-4e4b-a86e-a08330e57845"
      },
      "source": [
        "import matplotlib.pyplot as plt\n",
        "\n",
        "\n",
        "train_loss = model.history.history[\"loss\"]\n",
        "valid_loss = model.history.history[\"val_loss\"]\n",
        "\n",
        "train_acc = model.history.history[\"acc\"]\n",
        "valid_acc = model.history.history[\"val_acc\"]\n",
        "\n",
        "plt.plot(range(len(train_loss)), train_loss, label=\"train loss\")\n",
        "plt.plot(range(len(valid_loss)), valid_loss, label=\"valid loss\")\n",
        "plt.legend()\n",
        "plt.title(\"Loss\")\n",
        "plt.show()\n",
        "\n",
        "plt.plot(range(len(train_acc)), train_acc, label=\"train accuracy\")\n",
        "plt.plot(range(len(valid_acc)), valid_acc, label=\"valid accuracy\")\n",
        "plt.legend()\n",
        "plt.title(\"Accuracy\")\n",
        "plt.show()"
      ],
      "execution_count": 14,
      "outputs": [
        {
          "output_type": "display_data",
          "data": {
            "image/png": "[encoded data removed]",
            "text/plain": [
              "<Figure size 432x288 with 1 Axes>"
            ]
          },
          "metadata": {
            "tags": []
          }
        },
        {
          "output_type": "display_data",
          "data": {
            "image/png": "[encoded data removed]",
            "text/plain": [
              "<Figure size 432x288 with 1 Axes>"
            ]
          },
          "metadata": {
            "tags": []
          }
        }
      ]
    },
    {
      "cell_type": "code",
      "metadata": {
        "id": "JaK3ev5ivvU6",
        "colab_type": "code",
        "colab": {}
      },
      "source": [
        ""
      ],
      "execution_count": 0,
      "outputs": []
    }
  ]
}