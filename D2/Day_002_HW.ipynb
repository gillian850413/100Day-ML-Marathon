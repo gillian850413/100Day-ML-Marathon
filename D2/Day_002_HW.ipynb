{
 "cells": [
  {
   "cell_type": "markdown",
   "metadata": {},
   "source": [
    "## [作業目標]\n",
    "了解機器學習適合應用的領域與範疇。"
   ]
  },
  {
   "cell_type": "markdown",
   "metadata": {},
   "source": [
    "## [作業重點]\n",
    "透過瞭解機器學習的運作方式，找出非常適用機器學習應用的領域及其原因"
   ]
  },
  {
   "cell_type": "markdown",
   "metadata": {},
   "source": [
    "## 作業\n",
    "請找出一個你認為機器學習可以發光發熱的領域並闡述原因? "
   ]
  },
  {
   "cell_type": "markdown",
   "metadata": {},
   "source": [
    "我認為醫療是機器學習有很多潛力可以發揮的領域之一。目前機器學習幫助醫療產業方面的工作有協助病理學家來檢測癌症細胞的位置，解決基因組學中的各種問題，以及即時偵測及預測病人降血糖/血壓以方便護理人員即時了解症狀(根據患者的當前狀況，然後通過從先前數百萬其他患者的案例中學習，可以預測該患者的未來可能發生的狀況，從而幫助醫療保健人員做出更好的決策)。利用機器學習，醫療人員可以更有效的照顧跟治療病人，這些都顯示了機器學習在醫療產業上能夠做的貢獻。"
   ]
  },
  {
   "cell_type": "code",
   "execution_count": null,
   "metadata": {},
   "outputs": [],
   "source": []
  }
 ],
 "metadata": {
  "kernelspec": {
   "display_name": "Python 3",
   "language": "python",
   "name": "python3"
  },
  "language_info": {
   "codemirror_mode": {
    "name": "ipython",
    "version": 3
   },
   "file_extension": ".py",
   "mimetype": "text/x-python",
   "name": "python",
   "nbconvert_exporter": "python",
   "pygments_lexer": "ipython3",
   "version": "3.7.2"
  }
 },
 "nbformat": 4,
 "nbformat_minor": 2
}
